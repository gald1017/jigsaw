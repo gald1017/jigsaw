{
 "cells": [
  {
   "cell_type": "code",
   "execution_count": 1,
   "id": "typical-leisure",
   "metadata": {},
   "outputs": [],
   "source": [
    "import pandas as pd\n",
    "import pickle\n",
    "import numpy as np\n",
    "from sklearn.manifold import TSNE\n",
    "import matplotlib.pyplot as plt\n",
    "import torch\n",
    "from sklearn.linear_model import LogisticRegression\n",
    "from sklearn.pipeline import make_pipeline\n",
    "from sklearn.preprocessing import StandardScaler"
   ]
  },
  {
   "cell_type": "code",
   "execution_count": 2,
   "id": "adaptive-street",
   "metadata": {},
   "outputs": [],
   "source": [
    "def _read_pickle(file_name):\n",
    "    return pd.read_pickle(file_name)\n",
    "\n",
    "def read_data(file_name):\n",
    "    \n",
    "    df = _read_pickle(file_name)\n",
    "    a = [] \n",
    "    for t in df:\n",
    "        a.append(np.squeeze(t.numpy(), 0))\n",
    "\n",
    "    return a\n"
   ]
  },
  {
   "cell_type": "markdown",
   "id": "fossil-hollywood",
   "metadata": {},
   "source": [
    "# Data Loading"
   ]
  },
  {
   "cell_type": "code",
   "execution_count": 16,
   "id": "collectible-queue",
   "metadata": {},
   "outputs": [],
   "source": [
    "train = torch.load('jigsaw_toxic-comment_train_embedded_CLS_english_bert.pkl')\n",
    "#train = pd.read_csv('jigsaw_toxic-comment_train_embedded.pkl')\n",
    "#train = pickle.load( open( 'jigsaw_toxic-comment_train_embedded.pkl', \"rb\" ) )"
   ]
  },
  {
   "cell_type": "code",
   "execution_count": 17,
   "id": "chemical-necklace",
   "metadata": {},
   "outputs": [
    {
     "data": {
      "text/plain": [
       "223549"
      ]
     },
     "execution_count": 17,
     "metadata": {},
     "output_type": "execute_result"
    }
   ],
   "source": [
    "len(train)"
   ]
  },
  {
   "cell_type": "code",
   "execution_count": 18,
   "id": "binding-fossil",
   "metadata": {},
   "outputs": [],
   "source": [
    "#val = torch.load('validation_es_only_text.pkl')\n",
    "#val = pickle.load( open( 'validation_es_only_text.pkl', \"rb\" ) )\n",
    "val = torch.load('es_ds_translated_aws_english_bert_distilbert-base_uncased.pkl')\n",
    "val = [x.numpy() for x in val]"
   ]
  },
  {
   "cell_type": "code",
   "execution_count": 19,
   "id": "front-gather",
   "metadata": {},
   "outputs": [],
   "source": [
    "train_path = '../data/jigsaw-toxic-comment-train.csv'\n",
    "val_path = '../data/val_es_toxic.csv' "
   ]
  },
  {
   "cell_type": "code",
   "execution_count": 20,
   "id": "threaded-bedroom",
   "metadata": {},
   "outputs": [],
   "source": [
    "train_set = pd.read_csv(train_path)\n",
    "val_set = pd.read_csv(val_path)"
   ]
  },
  {
   "cell_type": "code",
   "execution_count": 22,
   "id": "sharing-sydney",
   "metadata": {},
   "outputs": [],
   "source": [
    "from sklearn.model_selection import train_test_split\n",
    "X_train_eng, X_test_eng, y_train_eng, y_test_eng = train_test_split(train, train_set.toxic, test_size=0.33, random_state=42)"
   ]
  },
  {
   "cell_type": "code",
   "execution_count": 23,
   "id": "tamil-literacy",
   "metadata": {},
   "outputs": [],
   "source": [
    "X_train_eng = np.squeeze(np.stack([x.numpy() for x in X_train_eng]))\n",
    "X_test_eng = np.squeeze(np.stack([x.numpy() for x in X_test_eng]))\n",
    "#val = np.squeeze(np.stack([x.numpy() for x in val]))"
   ]
  },
  {
   "cell_type": "markdown",
   "id": "certified-orbit",
   "metadata": {},
   "source": [
    "# Logistic regression"
   ]
  },
  {
   "cell_type": "markdown",
   "id": "pleased-retreat",
   "metadata": {},
   "source": [
    "### Train - English only"
   ]
  },
  {
   "cell_type": "code",
   "execution_count": 24,
   "id": "intended-upgrade",
   "metadata": {},
   "outputs": [
    {
     "name": "stdout",
     "output_type": "stream",
     "text": [
      "CPU times: user 3min 7s, sys: 3.61 s, total: 3min 11s\n",
      "Wall time: 50.5 s\n"
     ]
    },
    {
     "data": {
      "text/plain": [
       "Pipeline(steps=[('standardscaler', StandardScaler()),\n",
       "                ('logisticregression',\n",
       "                 LogisticRegression(class_weight='balanced', max_iter=10000))])"
      ]
     },
     "execution_count": 24,
     "metadata": {},
     "output_type": "execute_result"
    }
   ],
   "source": [
    "%%time\n",
    "pipe = make_pipeline(StandardScaler(), LogisticRegression( class_weight='balanced', max_iter=10000))\n",
    "#pipe = make_pipeline(StandardScaler(), LogisticRegression( max_iter=1000))\n",
    "\n",
    "pipe.fit(X_train_eng, y_train_eng)\n",
    "#clf = LogisticRegression(random_state=0).fit(train[0:1000],list(val_set.toxic[0:1000]) )\n"
   ]
  },
  {
   "cell_type": "code",
   "execution_count": 25,
   "id": "accepting-surveillance",
   "metadata": {},
   "outputs": [
    {
     "data": {
      "text/plain": [
       "['models/X_and_y/y_test_eng.pkl']"
      ]
     },
     "execution_count": 25,
     "metadata": {},
     "output_type": "execute_result"
    }
   ],
   "source": [
    "import joblib\n",
    "\n",
    "joblib.dump(pipe, \"models/Logistic_Regression/logistic_regression_LABSE_embedded.pkl\") \n",
    "joblib.dump(X_train_eng, \"models/X_and_y/X_train_eng.pkl\") \n",
    "joblib.dump(X_test_eng, \"models/X_and_y/X_test_eng.pkl\") \n",
    "joblib.dump(y_train_eng, \"models/X_and_y/y_train_eng.pkl\")\n",
    "joblib.dump(y_test_eng, \"models/X_and_y/y_test_eng.pkl\")\n"
   ]
  },
  {
   "cell_type": "markdown",
   "id": "collect-constitutional",
   "metadata": {},
   "source": [
    "# MLP Classifier"
   ]
  },
  {
   "cell_type": "markdown",
   "id": "portuguese-strengthening",
   "metadata": {},
   "source": [
    "### Train - English only"
   ]
  },
  {
   "cell_type": "code",
   "execution_count": 26,
   "id": "specific-audience",
   "metadata": {},
   "outputs": [
    {
     "name": "stdout",
     "output_type": "stream",
     "text": [
      "CPU times: user 49min 14s, sys: 2min 6s, total: 51min 20s\n",
      "Wall time: 12min 52s\n"
     ]
    },
    {
     "data": {
      "text/plain": [
       "Pipeline(steps=[('standardscaler', StandardScaler()),\n",
       "                ('mlpclassifier',\n",
       "                 MLPClassifier(hidden_layer_sizes=512, max_iter=300,\n",
       "                               random_state=1))])"
      ]
     },
     "execution_count": 26,
     "metadata": {},
     "output_type": "execute_result"
    }
   ],
   "source": [
    "%%time\n",
    "\n",
    "from sklearn.neural_network import MLPClassifier\n",
    "\n",
    "clf = MLPClassifier(hidden_layer_sizes=512, random_state=1, max_iter=300)\n",
    "\n",
    "pipe = make_pipeline(StandardScaler(), clf)\n",
    "pipe.fit(X_train_eng, y_train_eng)"
   ]
  },
  {
   "cell_type": "code",
   "execution_count": 27,
   "id": "fixed-aluminum",
   "metadata": {},
   "outputs": [
    {
     "ename": "FileNotFoundError",
     "evalue": "[Errno 2] No such file or directory: 'models/MLP_Classifier/MLP_Classifier_LABSE_embedded.pkl'",
     "output_type": "error",
     "traceback": [
      "\u001b[0;31m---------------------------------------------------------------------------\u001b[0m",
      "\u001b[0;31mFileNotFoundError\u001b[0m                         Traceback (most recent call last)",
      "\u001b[0;32m<ipython-input-27-edf9ef2f5188>\u001b[0m in \u001b[0;36m<module>\u001b[0;34m\u001b[0m\n\u001b[0;32m----> 1\u001b[0;31m \u001b[0mjoblib\u001b[0m\u001b[0;34m.\u001b[0m\u001b[0mdump\u001b[0m\u001b[0;34m(\u001b[0m\u001b[0mpipe\u001b[0m\u001b[0;34m,\u001b[0m \u001b[0;34m\"models/MLP_Classifier/MLP_Classifier_LABSE_embedded.pkl\"\u001b[0m\u001b[0;34m)\u001b[0m\u001b[0;34m\u001b[0m\u001b[0;34m\u001b[0m\u001b[0m\n\u001b[0m",
      "\u001b[0;32m~/anaconda3/envs/amazonei_pytorch_latest_p36/lib/python3.6/site-packages/joblib/numpy_pickle.py\u001b[0m in \u001b[0;36mdump\u001b[0;34m(value, filename, compress, protocol, cache_size)\u001b[0m\n\u001b[1;32m    477\u001b[0m             \u001b[0mNumpyPickler\u001b[0m\u001b[0;34m(\u001b[0m\u001b[0mf\u001b[0m\u001b[0;34m,\u001b[0m \u001b[0mprotocol\u001b[0m\u001b[0;34m=\u001b[0m\u001b[0mprotocol\u001b[0m\u001b[0;34m)\u001b[0m\u001b[0;34m.\u001b[0m\u001b[0mdump\u001b[0m\u001b[0;34m(\u001b[0m\u001b[0mvalue\u001b[0m\u001b[0;34m)\u001b[0m\u001b[0;34m\u001b[0m\u001b[0;34m\u001b[0m\u001b[0m\n\u001b[1;32m    478\u001b[0m     \u001b[0;32melif\u001b[0m \u001b[0mis_filename\u001b[0m\u001b[0;34m:\u001b[0m\u001b[0;34m\u001b[0m\u001b[0;34m\u001b[0m\u001b[0m\n\u001b[0;32m--> 479\u001b[0;31m         \u001b[0;32mwith\u001b[0m \u001b[0mopen\u001b[0m\u001b[0;34m(\u001b[0m\u001b[0mfilename\u001b[0m\u001b[0;34m,\u001b[0m \u001b[0;34m'wb'\u001b[0m\u001b[0;34m)\u001b[0m \u001b[0;32mas\u001b[0m \u001b[0mf\u001b[0m\u001b[0;34m:\u001b[0m\u001b[0;34m\u001b[0m\u001b[0;34m\u001b[0m\u001b[0m\n\u001b[0m\u001b[1;32m    480\u001b[0m             \u001b[0mNumpyPickler\u001b[0m\u001b[0;34m(\u001b[0m\u001b[0mf\u001b[0m\u001b[0;34m,\u001b[0m \u001b[0mprotocol\u001b[0m\u001b[0;34m=\u001b[0m\u001b[0mprotocol\u001b[0m\u001b[0;34m)\u001b[0m\u001b[0;34m.\u001b[0m\u001b[0mdump\u001b[0m\u001b[0;34m(\u001b[0m\u001b[0mvalue\u001b[0m\u001b[0;34m)\u001b[0m\u001b[0;34m\u001b[0m\u001b[0;34m\u001b[0m\u001b[0m\n\u001b[1;32m    481\u001b[0m     \u001b[0;32melse\u001b[0m\u001b[0;34m:\u001b[0m\u001b[0;34m\u001b[0m\u001b[0;34m\u001b[0m\u001b[0m\n",
      "\u001b[0;31mFileNotFoundError\u001b[0m: [Errno 2] No such file or directory: 'models/MLP_Classifier/MLP_Classifier_LABSE_embedded.pkl'"
     ]
    }
   ],
   "source": [
    "joblib.dump(pipe, \"models/MLP_Classifier/MLP_Classifier_LABSE_embedded.pkl\") \n"
   ]
  },
  {
   "cell_type": "markdown",
   "id": "genetic-allah",
   "metadata": {},
   "source": [
    "# Neural Network"
   ]
  },
  {
   "cell_type": "code",
   "execution_count": null,
   "id": "funky-newton",
   "metadata": {},
   "outputs": [],
   "source": [
    "import torch\n",
    "import torch.nn as nn\n",
    "import torch.optim as optim\n",
    "from torch.optim import lr_scheduler\n",
    "import numpy as np\n",
    "import torchvision\n",
    "from torchvision import datasets, models\n",
    "\n",
    "class net(nn.Module):\n",
    "\n",
    "    def __init__(self):\n",
    "\n",
    "        super(net, self).__init__()\n",
    "        # dropout layer\n",
    "        self.dropout = nn.Dropout(0.1)\n",
    "        # relu activation function\n",
    "        self.relu =  nn.ReLU()\n",
    "        # dense layer 1\n",
    "        self.fc1 = nn.Linear(768,512)\n",
    "        # dense layer 2 (Output layer)\n",
    "        self.fc2 = nn.Linear(512,2)\n",
    "        #softmax activation function\n",
    "        self.softmax = nn.LogSoftmax(dim=1)\n",
    "    \n",
    "    #define the forward pass\n",
    "    def forward(self, in_vec):\n",
    "        \n",
    "        #pass the inputs to the model  \n",
    "        x = self.fc1(in_vec)\n",
    "        x = self.relu(x)\n",
    "        x = self.dropout(x)\n",
    "        # output layer\n",
    "        x = self.fc2(x)\n",
    "        # apply softmax activation\n",
    "        x = self.softmax(x)\n",
    "\n",
    "        return x"
   ]
  },
  {
   "cell_type": "code",
   "execution_count": null,
   "id": "narrative-emperor",
   "metadata": {},
   "outputs": [],
   "source": [
    "from sklearn.utils.class_weight import compute_class_weight\n",
    "\n",
    "#compute the class weights\n",
    "class_weights = compute_class_weight('balanced', np.unique(y_train_eng), y_train_eng)\n",
    "\n",
    "print(\"Class Weights:\",class_weights)\n",
    "\n"
   ]
  },
  {
   "cell_type": "code",
   "execution_count": null,
   "id": "facial-subcommittee",
   "metadata": {},
   "outputs": [],
   "source": [
    "import time\n",
    "import copy\n",
    "\n",
    "train_loss = []\n",
    "train_con = []\n",
    "\n",
    "eval_loss = []\n",
    "eval_con = []\n",
    "\n",
    "def train_model(model, dataloaders, criterion, optimizer, scheduler, num_epochs=25):\n",
    "    since = time.time()\n",
    "\n",
    "    # Init variables that will save info about the best model\n",
    "    best_model_wts = copy.deepcopy(model.state_dict())\n",
    "    best_acc = 0.0\n",
    "\n",
    "    for epoch in range(num_epochs):\n",
    "        print('Epoch {}/{}'.format(epoch, num_epochs - 1))\n",
    "        print('-' * 10)\n",
    "\n",
    "        # Each epoch has a training and validation phase\n",
    "        for phase in ['train', 'val']:\n",
    "            if phase == 'train':\n",
    "                # Set model to training mode. \n",
    "                model.train()  \n",
    "            else:\n",
    "                # Set model to evaluate mode. In evaluate mode, we don't perform backprop and don't need to keep the gradients\n",
    "                model.eval()   \n",
    "\n",
    "            running_loss = 0.0\n",
    "            running_corrects = 0\n",
    "\n",
    "            # Iterate over data\n",
    "            i = 0 \n",
    "            for inputs, labels in dataloaders[phase]:\n",
    "                # Prepare the inputs for GPU/CPU\n",
    "                inputs = inputs.to(device)\n",
    "                labels = labels.to(device)\n",
    "                \n",
    "                # zero the parameter gradients\n",
    "                optimizer.zero_grad()\n",
    "\n",
    "                # ===== forward pass ======\n",
    "                with torch.set_grad_enabled(phase=='train'):\n",
    "                    # If we're in train mode, we'll track the gradients to allow back-propagation\n",
    "                    outputs = model(inputs) # apply the model to the inputs. The output is the softmax probability of each class\n",
    "                    _, preds = torch.max(outputs, 1) # \n",
    "                    #print(outputs, labels)\n",
    "\n",
    "                    loss = criterion(outputs, labels)\n",
    "\n",
    "                    # ==== backward pass + optimizer step ====\n",
    "                    # This runs only in the training phase\n",
    "                    if phase == 'train':\n",
    "                        loss.backward() # Perform a step in the opposite direction of the gradient\n",
    "                        optimizer.step() # Adapt the optimizer\n",
    "\n",
    "\n",
    "                # Collect statistics\n",
    "                running_loss += loss.item() * inputs.size(0)\n",
    "                running_corrects += torch.sum(preds == labels.data)\n",
    "\n",
    "                \n",
    "            if phase == 'train':\n",
    "                # Adjust the learning rate based on the scheduler\n",
    "                scheduler.step()\n",
    " \n",
    "\n",
    "            epoch_loss = running_loss / dataset_sizes[phase]\n",
    "            epoch_acc = running_corrects.double() / dataset_sizes[phase]\n",
    "            #writer.add_histogram(\"conv1.weight_hist\", model.conv1.weight, epoch)\n",
    "            #writer.add_histogram(\"conv1.weight_avg\", model.conv1.weight.mean(), epoch)\n",
    "            #writer.add_histogram(\"model_loss\", loss.item(), epoch)\n",
    "\n",
    "            if phase == 'train':\n",
    "                train_loss.append(epoch_loss)\n",
    "                train_con.append(epoch_acc)\n",
    "                i += 1\n",
    "                #writer.add_scalar('training loss', running_loss / 1000, epoch * len(dataloaders['train']) + i) \n",
    "            if phase == 'val':\n",
    "                eval_loss.append(epoch_loss)\n",
    "                eval_con.append(epoch_acc)\n",
    "                i += 1\n",
    "                #writer.add_scalar('eval loss', running_loss / 1000, epoch * len(dataloaders['train']) + i) \n",
    "                #print(\"pred {0} lable: {1}\".format(preds, labels.data))\n",
    "\n",
    "            print(f'{phase} Loss: {epoch_loss:.4f} Acc: {epoch_acc:.4f}')\n",
    "\n",
    "            # Keep the results of the best model so far\n",
    "            if phase == 'val' and epoch_acc > best_acc:\n",
    "                best_acc = epoch_acc\n",
    "                # deepcopy the model\n",
    "                best_model_wts = copy.deepcopy(model.state_dict())\n",
    "\n",
    "        print()\n",
    "\n",
    "    time_elapsed = time.time() - since\n",
    "    print(f'Training complete in {(time_elapsed // 60):.0f}m {(time_elapsed % 60):.0f}s')\n",
    "    print(f'Best val Acc: {best_acc:4f}')\n",
    "\n",
    "    # load best model weights\n",
    "    model.load_state_dict(best_model_wts)\n",
    "    torch.save(model.state_dict(), 'saved_weights.pt')\n",
    "    return model, train_loss, train_con, eval_loss, eval_con"
   ]
  },
  {
   "cell_type": "code",
   "execution_count": null,
   "id": "written-point",
   "metadata": {},
   "outputs": [],
   "source": [
    "from transformers import AdamW\n",
    "\n",
    "model = net()\n",
    "model.cuda()\n",
    "device = torch.device(\"cuda:0\" if torch.cuda.is_available() else \"cpu\")\n",
    "#device = \"cpu\"\n",
    "# converting list of class weights to a tensor\n",
    "weights= torch.tensor(class_weights,dtype=torch.float)\n",
    "\n",
    "# push to GPU\n",
    "weights = weights.to(device)\n",
    "\n",
    "# define the loss function\n",
    "cross_entropy  = nn.NLLLoss(weight=weights) \n",
    "\n",
    "# define the optimizer\n",
    "optimizer = AdamW(model.parameters(),\n",
    "                  lr = 1e-5)          # learning rate\n",
    "\n",
    "my_lr_scheduler = lr_scheduler.StepLR(optimizer, step_size=7, gamma=0.1)"
   ]
  },
  {
   "cell_type": "code",
   "execution_count": null,
   "id": "decimal-intention",
   "metadata": {},
   "outputs": [],
   "source": [
    "import torch.utils.data as data_utils\n",
    "\n",
    "tensor_x_train = torch.from_numpy(np.array(X_train_eng)) # transform to torch tensor\n",
    "tensor_y_train = torch.from_numpy(np.array(y_train_eng))\n",
    "\n",
    "tensor_x_val = torch.from_numpy(np.array(X_test_eng)) # transform to torch tensor\n",
    "tensor_y_val = torch.from_numpy(np.array(y_test_eng))\n",
    "\n",
    "datasets = {'train':data_utils.TensorDataset(tensor_x_train, tensor_y_train) ,'val':data_utils.TensorDataset(tensor_x_val, tensor_y_val)  }\n",
    "\n",
    "\n",
    "dataloaders_my = {\n",
    "    'train': torch.utils.data.DataLoader(datasets['train'], batch_size=16,\n",
    "                                             shuffle=True, num_workers=2),\n",
    "    'val': torch.utils.data.DataLoader(datasets['val'], batch_size=16,\n",
    "                                          shuffle=False, num_workers=2)\n",
    "  }"
   ]
  },
  {
   "cell_type": "markdown",
   "id": "maritime-virus",
   "metadata": {},
   "source": [
    "# Train - English only"
   ]
  },
  {
   "cell_type": "code",
   "execution_count": null,
   "id": "suitable-professional",
   "metadata": {},
   "outputs": [],
   "source": [
    "%%time\n",
    "\n",
    "dataset_sizes = {x: len(datasets[x]) for x in ['train', 'val']}\n",
    "\n",
    "train_loss = []\n",
    "train_con = []\n",
    "\n",
    "eval_loss = []\n",
    "eval_con = []\n",
    "\n",
    "num_epochs=10\n",
    "#inputs, labels = inputs.to(device), labels.to(device)\n",
    "\n",
    "model, train_loss, train_con, eval_loss, eval_con  = train_model(model, \n",
    "                    dataloaders_my,\n",
    "                       cross_entropy, \n",
    "                       optimizer, \n",
    "                       my_lr_scheduler,\n",
    "                       num_epochs=num_epochs)"
   ]
  },
  {
   "cell_type": "code",
   "execution_count": null,
   "id": "artificial-contamination",
   "metadata": {},
   "outputs": [],
   "source": [
    "plt.figure(1)\n",
    "plt.plot(train_loss, label='train')\n",
    "plt.plot(eval_loss, label='eval')\n",
    "plt.ylabel('Loss')\n",
    "plt.xlabel('epoch')\n",
    "plt.legend()\n",
    "\n",
    "plt.figure(2)\n",
    "plt.plot(train_con, label='train')\n",
    "plt.plot(eval_con, label='eval')\n",
    "plt.ylabel('accuracy')\n",
    "plt.xlabel('epoch')\n",
    "\n",
    "plt.legend()\n",
    "plt.show()"
   ]
  },
  {
   "cell_type": "code",
   "execution_count": null,
   "id": "sufficient-wheat",
   "metadata": {},
   "outputs": [],
   "source": []
  },
  {
   "cell_type": "code",
   "execution_count": null,
   "id": "informational-platinum",
   "metadata": {},
   "outputs": [],
   "source": []
  }
 ],
 "metadata": {
  "kernelspec": {
   "display_name": "conda_amazonei_pytorch_latest_p36",
   "language": "python",
   "name": "conda_amazonei_pytorch_latest_p36"
  },
  "language_info": {
   "codemirror_mode": {
    "name": "ipython",
    "version": 3
   },
   "file_extension": ".py",
   "mimetype": "text/x-python",
   "name": "python",
   "nbconvert_exporter": "python",
   "pygments_lexer": "ipython3",
   "version": "3.6.13"
  }
 },
 "nbformat": 4,
 "nbformat_minor": 5
}
