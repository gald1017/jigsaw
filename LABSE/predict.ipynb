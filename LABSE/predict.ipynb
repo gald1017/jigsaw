{
 "cells": [
  {
   "cell_type": "code",
   "execution_count": 7,
   "id": "filled-mountain",
   "metadata": {},
   "outputs": [],
   "source": [
    "import pandas as pd\n",
    "import pickle\n",
    "import numpy as np\n",
    "from sklearn.manifold import TSNE\n",
    "import matplotlib.pyplot as plt\n",
    "import torch\n",
    "from sklearn.linear_model import LogisticRegression\n",
    "from sklearn.pipeline import make_pipeline\n",
    "from sklearn.preprocessing import StandardScaler\n",
    "from sklearn.metrics import roc_curve\n",
    "from sklearn.metrics import roc_auc_score\n",
    "from matplotlib import pyplot\n",
    "from sklearn.metrics import precision_recall_curve\n",
    "from sklearn.metrics import auc\n",
    "from matplotlib import pyplot\n"
   ]
  },
  {
   "cell_type": "code",
   "execution_count": 72,
   "id": "induced-liechtenstein",
   "metadata": {},
   "outputs": [],
   "source": [
    "def roc(ytest, prob_list):\n",
    "    # generate a no skill prediction (majority class)\n",
    "\n",
    "    ns_probs = [0 for _ in range(len(list(ytest)))]\n",
    "\n",
    "    \n",
    "    # keep probabilities for the positive outcome only\n",
    "    lr_probs = prob_list[:, 1]\n",
    "    # calculate scores\n",
    "    ns_auc = roc_auc_score(list(ytest), ns_probs)\n",
    "    lr_auc = roc_auc_score(list(ytest), lr_probs)\n",
    "    # summarize scores\n",
    "    print('No Skill: ROC AUC=%.3f' % (ns_auc))\n",
    "    print('Logistic: ROC AUC=%.3f' % (lr_auc))\n",
    "    # calculate roc curves\n",
    "    ns_fpr, ns_tpr, _ = roc_curve(list(ytest), ns_probs)\n",
    "    lr_fpr, lr_tpr, _ = roc_curve(list(ytest), lr_probs)\n",
    "    # plot the roc curve for the model\n",
    "    pyplot.plot(ns_fpr, ns_tpr, linestyle='--', label='No Skill')\n",
    "    pyplot.plot(lr_fpr, lr_tpr, marker='.', label='Logistic')\n",
    "    # axis labels\n",
    "    pyplot.xlabel('False Positive Rate')\n",
    "    pyplot.ylabel('True Positive Rate')\n",
    "    # show the legend\n",
    "    pyplot.legend()\n",
    "    # show the plot\n",
    "    pyplot.show()"
   ]
  },
  {
   "cell_type": "code",
   "execution_count": 66,
   "id": "generous-wisdom",
   "metadata": {},
   "outputs": [],
   "source": [
    "def recall_precision(testy, lr_probs):\n",
    "    # predict class values   \n",
    "    lr_precision, lr_recall, _ = precision_recall_curve(testy, lr_probs)\n",
    "    lr_auc =  auc(lr_recall, lr_precision)\n",
    "    # summarize scores\n",
    "    print('Logistic: auc=%.3f' % (lr_auc))\n",
    "    # plot the precision-recall curves\n",
    "    no_skill = len(testy[testy==1]) / len(testy)\n",
    "    pyplot.plot([0, 1], [no_skill, no_skill], linestyle='--', label='No Skill')\n",
    "    pyplot.plot(lr_recall, lr_precision, marker='.', label='Logistic')\n",
    "    # axis labels\n",
    "    pyplot.xlabel('Recall')\n",
    "    pyplot.ylabel('Precision')\n",
    "    # show the legend\n",
    "    pyplot.legend()\n",
    "    # show the plot\n",
    "    pyplot.show()"
   ]
  },
  {
   "cell_type": "markdown",
   "id": "later-dodge",
   "metadata": {},
   "source": [
    "# Data Loading"
   ]
  },
  {
   "cell_type": "code",
   "execution_count": 8,
   "id": "plastic-sunday",
   "metadata": {},
   "outputs": [],
   "source": [
    "import joblib\n",
    "\n",
    "X_train_eng = joblib.load(\"models/X_and_y/X_train_eng.pkl\") \n",
    "X_test_eng = joblib.load(\"models/X_and_y/X_test_eng.pkl\") \n",
    "y_train_eng = joblib.load(\"models/X_and_y/y_train_eng.pkl\")\n",
    "y_test_eng = joblib.load(\"models/X_and_y/y_test_eng.pkl\")\n"
   ]
  },
  {
   "cell_type": "code",
   "execution_count": 9,
   "id": "brief-escape",
   "metadata": {},
   "outputs": [],
   "source": [
    "val = torch.load('../validation_es_only_text_CLS_labse_bert.pkl')\n",
    "val = [x.numpy().reshape(-1) for x in val]\n",
    "\n",
    "val_path = '../data/val_es_toxic.csv' \n",
    "val_set = pd.read_csv(val_path)"
   ]
  },
  {
   "cell_type": "markdown",
   "id": "configured-dollar",
   "metadata": {},
   "source": [
    "# Logistic regression"
   ]
  },
  {
   "cell_type": "markdown",
   "id": "enormous-season",
   "metadata": {},
   "source": [
    "## Test - English only"
   ]
  },
  {
   "cell_type": "code",
   "execution_count": 80,
   "id": "desperate-alliance",
   "metadata": {},
   "outputs": [],
   "source": [
    "pipe = joblib.load(\"models/Logistic_Regression/logistic_regression_LABSE.pkl\")"
   ]
  },
  {
   "cell_type": "code",
   "execution_count": 81,
   "id": "healthy-waters",
   "metadata": {},
   "outputs": [
    {
     "name": "stdout",
     "output_type": "stream",
     "text": [
      "              precision    recall  f1-score   support\n",
      "\n",
      "     class 0       0.89      0.99      0.94     60363\n",
      "     class 1       0.88      0.46      0.61     13409\n",
      "\n",
      "    accuracy                           0.89     73772\n",
      "   macro avg       0.89      0.72      0.77     73772\n",
      "weighted avg       0.89      0.89      0.88     73772\n",
      "\n"
     ]
    }
   ],
   "source": [
    "from sklearn.metrics import classification_report\n",
    "\n",
    "target_names = ['class 0', 'class 1']\n",
    "\n",
    "print(classification_report(pipe.predict(X_test_eng), y_test_eng, target_names=target_names))"
   ]
  },
  {
   "cell_type": "markdown",
   "id": "respective-license",
   "metadata": {},
   "source": [
    "### ROC"
   ]
  },
  {
   "cell_type": "code",
   "execution_count": 82,
   "id": "medieval-kenya",
   "metadata": {},
   "outputs": [
    {
     "name": "stdout",
     "output_type": "stream",
     "text": [
      "No Skill: ROC AUC=0.500\n",
      "Logistic: ROC AUC=0.958\n"
     ]
    },
    {
     "data": {
      "image/png": "[encoded data removed]",
      "text/plain": [
       "<Figure size 432x288 with 1 Axes>"
      ]
     },
     "metadata": {
      "needs_background": "light"
     },
     "output_type": "display_data"
    }
   ],
   "source": [
    "roc(y_test_eng, pipe.predict_proba(X_test_eng))"
   ]
  },
  {
   "cell_type": "markdown",
   "id": "aquatic-moment",
   "metadata": {},
   "source": [
    "### precision recall"
   ]
  },
  {
   "cell_type": "code",
   "execution_count": 83,
   "id": "aerial-vacation",
   "metadata": {},
   "outputs": [
    {
     "name": "stdout",
     "output_type": "stream",
     "text": [
      "Logistic: auc=0.763\n"
     ]
    },
    {
     "data": {
      "image/png": "[encoded data removed]",
      "text/plain": [
       "<Figure size 432x288 with 1 Axes>"
      ]
     },
     "metadata": {
      "needs_background": "light"
     },
     "output_type": "display_data"
    }
   ],
   "source": [
    "lr_probs = pipe.predict_proba(X_test_eng)\n",
    "lr_probs = lr_probs[:, 1]\n",
    "recall_precision(y_test_eng, lr_probs)"
   ]
  },
  {
   "cell_type": "markdown",
   "id": "personalized-harris",
   "metadata": {},
   "source": [
    "## Test- Spanish only"
   ]
  },
  {
   "cell_type": "code",
   "execution_count": 77,
   "id": "everyday-monitor",
   "metadata": {
    "scrolled": true
   },
   "outputs": [
    {
     "name": "stdout",
     "output_type": "stream",
     "text": [
      "              precision    recall  f1-score   support\n",
      "\n",
      "     class 0       0.76      0.95      0.85      1668\n",
      "     class 1       0.81      0.41      0.55       832\n",
      "\n",
      "    accuracy                           0.77      2500\n",
      "   macro avg       0.79      0.68      0.70      2500\n",
      "weighted avg       0.78      0.77      0.75      2500\n",
      "\n"
     ]
    }
   ],
   "source": [
    "from sklearn.metrics import classification_report\n",
    "\n",
    "target_names = ['class 0', 'class 1']\n",
    "\n",
    "print(classification_report(pipe.predict(val), list(val_set.toxic), target_names=target_names))"
   ]
  },
  {
   "cell_type": "markdown",
   "id": "negative-saint",
   "metadata": {},
   "source": [
    "### ROC"
   ]
  },
  {
   "cell_type": "code",
   "execution_count": 79,
   "id": "efficient-australian",
   "metadata": {},
   "outputs": [
    {
     "name": "stdout",
     "output_type": "stream",
     "text": [
      "No Skill: ROC AUC=0.500\n",
      "Logistic: ROC AUC=0.870\n"
     ]
    },
    {
     "data": {
      "image/png": "[encoded data removed]",
      "text/plain": [
       "<Figure size 432x288 with 1 Axes>"
      ]
     },
     "metadata": {
      "needs_background": "light"
     },
     "output_type": "display_data"
    }
   ],
   "source": [
    "roc(val_set.toxic, pipe.predict_proba(val))"
   ]
  },
  {
   "cell_type": "markdown",
   "id": "substantial-sending",
   "metadata": {},
   "source": [
    "### precision recall"
   ]
  },
  {
   "cell_type": "code",
   "execution_count": 84,
   "id": "impaired-keeping",
   "metadata": {},
   "outputs": [
    {
     "name": "stdout",
     "output_type": "stream",
     "text": [
      "Logistic: auc=0.634\n"
     ]
    },
    {
     "data": {
      "image/png": "[encoded data removed]",
      "text/plain": [
       "<Figure size 432x288 with 1 Axes>"
      ]
     },
     "metadata": {
      "needs_background": "light"
     },
     "output_type": "display_data"
    }
   ],
   "source": [
    "lr_probs = pipe.predict_proba(val)\n",
    "lr_probs = lr_probs[:, 1]\n",
    "recall_precision(val_set.toxic, lr_probs)"
   ]
  },
  {
   "cell_type": "markdown",
   "id": "parental-mobility",
   "metadata": {},
   "source": [
    "# MLP Classifier"
   ]
  },
  {
   "cell_type": "markdown",
   "id": "upper-greeting",
   "metadata": {},
   "source": [
    "## Test - English only"
   ]
  },
  {
   "cell_type": "code",
   "execution_count": 85,
   "id": "arbitrary-passport",
   "metadata": {},
   "outputs": [],
   "source": [
    "pipe = joblib.load(\"models/MLP_Classifier/MLP_Classifier_LABSE.pkl\")"
   ]
  },
  {
   "cell_type": "code",
   "execution_count": 86,
   "id": "instant-omega",
   "metadata": {},
   "outputs": [
    {
     "name": "stdout",
     "output_type": "stream",
     "text": [
      "              precision    recall  f1-score   support\n",
      "\n",
      "     class 0       0.97      0.96      0.97     67140\n",
      "     class 1       0.64      0.68      0.66      6632\n",
      "\n",
      "    accuracy                           0.94     73772\n",
      "   macro avg       0.81      0.82      0.81     73772\n",
      "weighted avg       0.94      0.94      0.94     73772\n",
      "\n"
     ]
    }
   ],
   "source": [
    "from sklearn.metrics import classification_report\n",
    "\n",
    "target_names = ['class 0', 'class 1']\n",
    "\n",
    "print(classification_report(pipe.predict(X_test_eng), y_test_eng, target_names=target_names))"
   ]
  },
  {
   "cell_type": "markdown",
   "id": "affected-sussex",
   "metadata": {},
   "source": [
    "### ROC"
   ]
  },
  {
   "cell_type": "code",
   "execution_count": 87,
   "id": "dirty-chemical",
   "metadata": {},
   "outputs": [
    {
     "name": "stdout",
     "output_type": "stream",
     "text": [
      "No Skill: ROC AUC=0.500\n",
      "Logistic: ROC AUC=0.949\n"
     ]
    },
    {
     "data": {
      "image/png": "[encoded data removed]",
      "text/plain": [
       "<Figure size 432x288 with 1 Axes>"
      ]
     },
     "metadata": {
      "needs_background": "light"
     },
     "output_type": "display_data"
    }
   ],
   "source": [
    "roc(y_test_eng, pipe.predict_proba(X_test_eng))"
   ]
  },
  {
   "cell_type": "markdown",
   "id": "sized-zambia",
   "metadata": {},
   "source": [
    "### precision recall"
   ]
  },
  {
   "cell_type": "code",
   "execution_count": 88,
   "id": "charming-liverpool",
   "metadata": {},
   "outputs": [
    {
     "name": "stdout",
     "output_type": "stream",
     "text": [
      "Logistic: auc=0.702\n"
     ]
    },
    {
     "data": {
      "image/png": "[encoded data removed]",
      "text/plain": [
       "<Figure size 432x288 with 1 Axes>"
      ]
     },
     "metadata": {
      "needs_background": "light"
     },
     "output_type": "display_data"
    }
   ],
   "source": [
    "lr_probs = pipe.predict_proba(X_test_eng)\n",
    "lr_probs = lr_probs[:, 1]\n",
    "recall_precision(y_test_eng, lr_probs)"
   ]
  },
  {
   "cell_type": "markdown",
   "id": "starting-storm",
   "metadata": {},
   "source": [
    "## Test- Spanish only"
   ]
  },
  {
   "cell_type": "code",
   "execution_count": 89,
   "id": "seeing-deviation",
   "metadata": {
    "scrolled": true
   },
   "outputs": [
    {
     "name": "stdout",
     "output_type": "stream",
     "text": [
      "              precision    recall  f1-score   support\n",
      "\n",
      "     class 0       0.91      0.90      0.91      2112\n",
      "     class 1       0.50      0.54      0.52       388\n",
      "\n",
      "    accuracy                           0.84      2500\n",
      "   macro avg       0.70      0.72      0.71      2500\n",
      "weighted avg       0.85      0.84      0.85      2500\n",
      "\n"
     ]
    }
   ],
   "source": [
    "from sklearn.metrics import classification_report\n",
    "\n",
    "target_names = ['class 0', 'class 1']\n",
    "\n",
    "print(classification_report(pipe.predict(val), list(val_set.toxic), target_names=target_names))"
   ]
  },
  {
   "cell_type": "markdown",
   "id": "after-morocco",
   "metadata": {},
   "source": [
    "### ROC"
   ]
  },
  {
   "cell_type": "code",
   "execution_count": 91,
   "id": "transparent-exercise",
   "metadata": {},
   "outputs": [
    {
     "name": "stdout",
     "output_type": "stream",
     "text": [
      "No Skill: ROC AUC=0.500\n",
      "Logistic: ROC AUC=0.843\n"
     ]
    },
    {
     "data": {
      "image/png": "[encoded data removed]",
      "text/plain": [
       "<Figure size 432x288 with 1 Axes>"
      ]
     },
     "metadata": {
      "needs_background": "light"
     },
     "output_type": "display_data"
    }
   ],
   "source": [
    "roc(val_set.toxic, pipe.predict_proba(val))"
   ]
  },
  {
   "cell_type": "markdown",
   "id": "collected-allocation",
   "metadata": {},
   "source": [
    "### precision recall"
   ]
  },
  {
   "cell_type": "code",
   "execution_count": 92,
   "id": "hundred-guarantee",
   "metadata": {},
   "outputs": [
    {
     "name": "stdout",
     "output_type": "stream",
     "text": [
      "Logistic: auc=0.530\n"
     ]
    },
    {
     "data": {
      "image/png": "[encoded data removed]",
      "text/plain": [
       "<Figure size 432x288 with 1 Axes>"
      ]
     },
     "metadata": {
      "needs_background": "light"
     },
     "output_type": "display_data"
    }
   ],
   "source": [
    "lr_probs = pipe.predict_proba(val)\n",
    "lr_probs = lr_probs[:, 1]\n",
    "recall_precision(val_set.toxic, lr_probs)"
   ]
  },
  {
   "cell_type": "markdown",
   "id": "creative-corporation",
   "metadata": {},
   "source": [
    "# Neural Network"
   ]
  },
  {
   "cell_type": "code",
   "execution_count": 93,
   "id": "royal-triangle",
   "metadata": {},
   "outputs": [],
   "source": [
    "import torch\n",
    "import torch.nn as nn\n",
    "import torch.optim as optim\n",
    "from torch.optim import lr_scheduler\n",
    "import numpy as np\n",
    "import torchvision\n",
    "from torchvision import datasets, models\n",
    "\n",
    "class net(nn.Module):\n",
    "\n",
    "    def __init__(self):\n",
    "\n",
    "        super(net, self).__init__()\n",
    "        # dropout layer\n",
    "        self.dropout = nn.Dropout(0.1)\n",
    "        # relu activation function\n",
    "        self.relu =  nn.ReLU()\n",
    "        # dense layer 1\n",
    "        self.fc1 = nn.Linear(768,512)\n",
    "        # dense layer 2 (Output layer)\n",
    "        self.fc2 = nn.Linear(512,2)\n",
    "        #softmax activation function\n",
    "        self.softmax = nn.LogSoftmax(dim=1)\n",
    "    \n",
    "    #define the forward pass\n",
    "    def forward(self, in_vec):\n",
    "        \n",
    "        #pass the inputs to the model  \n",
    "        x = self.fc1(in_vec)\n",
    "        x = self.relu(x)\n",
    "        x = self.dropout(x)\n",
    "        # output layer\n",
    "        x = self.fc2(x)\n",
    "        # apply softmax activation\n",
    "        x = self.softmax(x)\n",
    "\n",
    "        return x"
   ]
  },
  {
   "cell_type": "code",
   "execution_count": 10,
   "id": "ordinary-relations",
   "metadata": {},
   "outputs": [],
   "source": [
    "import torch.utils.data as data_utils\n",
    "\n",
    "tensor_x_train = torch.from_numpy(np.array(X_train_eng)) # transform to torch tensor\n",
    "tensor_y_train = torch.from_numpy(np.array(y_train_eng))\n",
    "\n",
    "tensor_x_val = torch.from_numpy(np.array(X_test_eng)) # transform to torch tensor\n",
    "tensor_y_val = torch.from_numpy(np.array(y_test_eng))\n",
    "\n",
    "datasets = {'train':data_utils.TensorDataset(tensor_x_train, tensor_y_train) ,'val':data_utils.TensorDataset(tensor_x_val, tensor_y_val)  }\n",
    "\n",
    "\n",
    "dataloaders_my = {\n",
    "    'train': torch.utils.data.DataLoader(datasets['train'], batch_size=16,\n",
    "                                             shuffle=True, num_workers=2),\n",
    "    'val': torch.utils.data.DataLoader(datasets['val'], batch_size=16,\n",
    "                                          shuffle=False, num_workers=2)\n",
    "  }"
   ]
  },
  {
   "cell_type": "code",
   "execution_count": 95,
   "id": "fifth-complexity",
   "metadata": {},
   "outputs": [
    {
     "data": {
      "text/plain": [
       "<All keys matched successfully>"
      ]
     },
     "execution_count": 95,
     "metadata": {},
     "output_type": "execute_result"
    }
   ],
   "source": [
    "model = net()\n",
    "model.load_state_dict(torch.load('models/Neural_Network/Neural_network_LABSE.pkl.pt'))\n"
   ]
  },
  {
   "cell_type": "markdown",
   "id": "floppy-syracuse",
   "metadata": {},
   "source": [
    "## Test - English only"
   ]
  },
  {
   "cell_type": "code",
   "execution_count": 96,
   "id": "norwegian-cornwall",
   "metadata": {},
   "outputs": [],
   "source": [
    "predlist=torch.zeros(0,dtype=torch.long, device='cpu')\n",
    "lbllist=torch.zeros(0,dtype=torch.long, device='cpu')\n",
    "prob_list = []\n",
    "device = 'cpu'\n",
    "\n",
    "with torch.no_grad(): # No need to collect gradients when generating predictions\n",
    "    for i, (inputs, labels) in enumerate(dataloaders_my['val']):\n",
    "        inputs = inputs.to(device)\n",
    "        labels = labels.to(device)\n",
    "        model.eval()\n",
    "        outputs = model(inputs)\n",
    "        prob_list.append(np.exp(outputs.cpu().numpy()))\n",
    "        _, preds = torch.max(outputs, 1)\n",
    "        \n",
    "        predlist=torch.cat([predlist, preds.view(-1).cpu()])\n",
    "        lbllist=torch.cat([lbllist, labels.view(-1).cpu()])"
   ]
  },
  {
   "cell_type": "code",
   "execution_count": 97,
   "id": "identified-unemployment",
   "metadata": {},
   "outputs": [
    {
     "name": "stdout",
     "output_type": "stream",
     "text": [
      "              precision    recall  f1-score   support\n",
      "\n",
      "     class 0       0.91      0.98      0.95     61748\n",
      "     class 1       0.86      0.50      0.63     12024\n",
      "\n",
      "    accuracy                           0.91     73772\n",
      "   macro avg       0.89      0.74      0.79     73772\n",
      "weighted avg       0.90      0.91      0.89     73772\n",
      "\n"
     ]
    }
   ],
   "source": [
    "from sklearn.metrics import classification_report\n",
    "\n",
    "target_names = ['class 0', 'class 1']\n",
    "\n",
    "print(classification_report(predlist, lbllist, target_names=target_names))"
   ]
  },
  {
   "cell_type": "markdown",
   "id": "combined-outline",
   "metadata": {},
   "source": [
    "### ROC"
   ]
  },
  {
   "cell_type": "code",
   "execution_count": 98,
   "id": "comfortable-translator",
   "metadata": {},
   "outputs": [
    {
     "name": "stdout",
     "output_type": "stream",
     "text": [
      "No Skill: ROC AUC=0.500\n",
      "Logistic: ROC AUC=0.957\n"
     ]
    },
    {
     "data": {
      "image/png": "[encoded data removed]",
      "text/plain": [
       "<Figure size 432x288 with 1 Axes>"
      ]
     },
     "metadata": {
      "needs_background": "light"
     },
     "output_type": "display_data"
    }
   ],
   "source": [
    "lr_probs = np.vstack(prob_list)\n",
    "roc(y_test_eng, lr_probs)"
   ]
  },
  {
   "cell_type": "markdown",
   "id": "incorporate-fraction",
   "metadata": {},
   "source": [
    "### precision recall"
   ]
  },
  {
   "cell_type": "code",
   "execution_count": 99,
   "id": "lovely-tanzania",
   "metadata": {},
   "outputs": [
    {
     "name": "stdout",
     "output_type": "stream",
     "text": [
      "Logistic: auc=0.765\n"
     ]
    },
    {
     "data": {
      "image/png": "[encoded data removed]",
      "text/plain": [
       "<Figure size 432x288 with 1 Axes>"
      ]
     },
     "metadata": {
      "needs_background": "light"
     },
     "output_type": "display_data"
    }
   ],
   "source": [
    "lr_probs_1 = lr_probs[:, 1]\n",
    "recall_precision(y_test_eng, lr_probs_1)"
   ]
  },
  {
   "cell_type": "markdown",
   "id": "dirty-ottawa",
   "metadata": {},
   "source": [
    "### Test- Spanish only"
   ]
  },
  {
   "cell_type": "code",
   "execution_count": 110,
   "id": "victorian-taste",
   "metadata": {},
   "outputs": [],
   "source": [
    "tensor_x_val_spanish = torch.from_numpy(np.array(val)) # transform to torch tensor\n",
    "tensor_y_val_spanish = torch.from_numpy(np.array(val_set.toxic))\n",
    "\n",
    "datasets_spanish = {'val':data_utils.TensorDataset(tensor_x_val_spanish, tensor_y_val_spanish)  }\n",
    "\n",
    "\n",
    "dataloaders_spanish = {\n",
    "    'val': torch.utils.data.DataLoader(datasets_spanish['val'], batch_size=16,\n",
    "                                          shuffle=False, num_workers=2)\n",
    "  }"
   ]
  },
  {
   "cell_type": "code",
   "execution_count": 116,
   "id": "planned-track",
   "metadata": {},
   "outputs": [],
   "source": [
    "predlist=torch.zeros(0,dtype=torch.long, device='cpu')\n",
    "lbllist=torch.zeros(0,dtype=torch.long, device='cpu')\n",
    "prob_list = []\n",
    "with torch.no_grad(): # No need to collect gradients when generating predictions\n",
    "    for i, (inputs, labels) in enumerate(dataloaders_spanish['val']):\n",
    "        inputs = inputs.to(device)\n",
    "        labels = labels.to(device)\n",
    "        model.eval()\n",
    "        outputs = model(inputs)\n",
    "        prob_list.append(np.exp(outputs.cpu().numpy()))\n",
    "        _, preds = torch.max(outputs, 1)\n",
    "        \n",
    "        predlist=torch.cat([predlist, preds.view(-1).cpu()])\n",
    "        lbllist=torch.cat([lbllist, labels.view(-1).cpu()])"
   ]
  },
  {
   "cell_type": "code",
   "execution_count": 118,
   "id": "handed-attitude",
   "metadata": {},
   "outputs": [
    {
     "name": "stdout",
     "output_type": "stream",
     "text": [
      "              precision    recall  f1-score   support\n",
      "\n",
      "     class 0       0.78      0.94      0.86      1734\n",
      "     class 1       0.76      0.42      0.54       766\n",
      "\n",
      "    accuracy                           0.78      2500\n",
      "   macro avg       0.77      0.68      0.70      2500\n",
      "weighted avg       0.78      0.78      0.76      2500\n",
      "\n"
     ]
    }
   ],
   "source": [
    "from sklearn.metrics import classification_report\n",
    "\n",
    "target_names = ['class 0', 'class 1']\n",
    "\n",
    "print(classification_report(predlist, lbllist, target_names=target_names))"
   ]
  },
  {
   "cell_type": "markdown",
   "id": "municipal-philosophy",
   "metadata": {},
   "source": [
    "### ROC"
   ]
  },
  {
   "cell_type": "code",
   "execution_count": 125,
   "id": "specific-remove",
   "metadata": {},
   "outputs": [
    {
     "name": "stdout",
     "output_type": "stream",
     "text": [
      "No Skill: ROC AUC=0.500\n",
      "Logistic: ROC AUC=0.864\n"
     ]
    },
    {
     "data": {
      "image/png": "[encoded data removed]",
      "text/plain": [
       "<Figure size 432x288 with 1 Axes>"
      ]
     },
     "metadata": {
      "needs_background": "light"
     },
     "output_type": "display_data"
    }
   ],
   "source": [
    "lr_probs = np.vstack(prob_list)\n",
    "roc(lbllist.numpy(), lr_probs)"
   ]
  },
  {
   "cell_type": "markdown",
   "id": "breeding-insulation",
   "metadata": {},
   "source": [
    "### precision recall"
   ]
  },
  {
   "cell_type": "code",
   "execution_count": 126,
   "id": "greater-hawaiian",
   "metadata": {},
   "outputs": [
    {
     "name": "stdout",
     "output_type": "stream",
     "text": [
      "Logistic: auc=0.625\n"
     ]
    },
    {
     "data": {
      "image/png": "[encoded data removed]",
      "text/plain": [
       "<Figure size 432x288 with 1 Axes>"
      ]
     },
     "metadata": {
      "needs_background": "light"
     },
     "output_type": "display_data"
    }
   ],
   "source": [
    "lr_probs_1 = lr_probs[:, 1]\n",
    "recall_precision(lbllist.numpy(), lr_probs_1)"
   ]
  },
  {
   "cell_type": "markdown",
   "id": "identified-scholarship",
   "metadata": {},
   "source": [
    "# Fine tune"
   ]
  },
  {
   "cell_type": "markdown",
   "id": "damaged-worker",
   "metadata": {},
   "source": [
    "## Test - English only\n"
   ]
  },
  {
   "cell_type": "markdown",
   "id": "ready-buyer",
   "metadata": {},
   "source": [
    "![title](eng.JPG)"
   ]
  },
  {
   "cell_type": "markdown",
   "id": "characteristic-highlight",
   "metadata": {},
   "source": [
    "![title](eg_roc.JPG)"
   ]
  },
  {
   "cell_type": "markdown",
   "id": "biblical-batch",
   "metadata": {},
   "source": [
    "## Test - Spanish only"
   ]
  },
  {
   "cell_type": "markdown",
   "id": "constant-manual",
   "metadata": {},
   "source": [
    "![title](es.JPG)"
   ]
  },
  {
   "cell_type": "markdown",
   "id": "public-variable",
   "metadata": {},
   "source": [
    "![title](es_roc.JPG)"
   ]
  },
  {
   "cell_type": "code",
   "execution_count": null,
   "id": "spoken-yukon",
   "metadata": {},
   "outputs": [],
   "source": []
  }
 ],
 "metadata": {
  "kernelspec": {
   "display_name": "conda_amazonei_pytorch_latest_p36",
   "language": "python",
   "name": "conda_amazonei_pytorch_latest_p36"
  },
  "language_info": {
   "codemirror_mode": {
    "name": "ipython",
    "version": 3
   },
   "file_extension": ".py",
   "mimetype": "text/x-python",
   "name": "python",
   "nbconvert_exporter": "python",
   "pygments_lexer": "ipython3",
   "version": "3.6.13"
  }
 },
 "nbformat": 4,
 "nbformat_minor": 5
}
