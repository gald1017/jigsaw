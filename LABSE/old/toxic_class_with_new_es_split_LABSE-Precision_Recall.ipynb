{
 "cells": [
  {
   "cell_type": "code",
   "execution_count": 1,
   "id": "timely-complex",
   "metadata": {},
   "outputs": [],
   "source": [
    "import pandas as pd\n",
    "import pickle\n",
    "import numpy as np\n",
    "from sklearn.manifold import TSNE\n",
    "import matplotlib.pyplot as plt\n",
    "import torch\n",
    "from sklearn.linear_model import LogisticRegression\n",
    "from sklearn.pipeline import make_pipeline\n",
    "from sklearn.preprocessing import StandardScaler"
   ]
  },
  {
   "cell_type": "code",
   "execution_count": 2,
   "id": "devoted-dragon",
   "metadata": {},
   "outputs": [],
   "source": [
    "def _read_pickle(file_name):\n",
    "    return pd.read_pickle(file_name)\n",
    "\n",
    "def read_data(file_name):\n",
    "    \n",
    "    df = _read_pickle(file_name)\n",
    "    a = [] \n",
    "    for t in df:\n",
    "        a.append(np.squeeze(t.numpy(), 0))\n",
    "\n",
    "    return a\n"
   ]
  },
  {
   "cell_type": "markdown",
   "id": "tired-congo",
   "metadata": {},
   "source": [
    "# Data Loading"
   ]
  },
  {
   "cell_type": "code",
   "execution_count": 3,
   "id": "arbitrary-zoning",
   "metadata": {},
   "outputs": [],
   "source": [
    "train = torch.load('jigsaw_toxic-comment_train_embedded_CLS_labse_bert.pkl')\n",
    "#train = pd.read_csv('jigsaw_toxic-comment_train_embedded.pkl')\n",
    "#train = pickle.load( open( 'jigsaw_toxic-comment_train_embedded.pkl', \"rb\" ) )"
   ]
  },
  {
   "cell_type": "code",
   "execution_count": 25,
   "id": "opening-jamaica",
   "metadata": {},
   "outputs": [],
   "source": [
    "#val = torch.load('validation_es_only_text.pkl')\n",
    "#val = pickle.load( open( 'validation_es_only_text.pkl', \"rb\" ) )\n",
    "val = torch.load('validation_es_only_text_CLS_labse_bert.pkl')\n",
    "val = [x.numpy() for x in val]"
   ]
  },
  {
   "cell_type": "code",
   "execution_count": 5,
   "id": "broad-convertible",
   "metadata": {},
   "outputs": [],
   "source": [
    "train_path = 'data/jigsaw-toxic-comment-train.csv'\n",
    "val_path = 'data/val_es_toxic.csv' "
   ]
  },
  {
   "cell_type": "code",
   "execution_count": 6,
   "id": "wanted-evidence",
   "metadata": {},
   "outputs": [],
   "source": [
    "train_set = pd.read_csv(train_path)\n",
    "val_set = pd.read_csv(val_path)"
   ]
  },
  {
   "cell_type": "code",
   "execution_count": 52,
   "id": "presidential-ordinance",
   "metadata": {},
   "outputs": [],
   "source": [
    "from sklearn.model_selection import train_test_split\n",
    "X_train_eng, X_test_eng, y_train_eng, y_test_eng = train_test_split(train, train_set.toxic, test_size=0.33, random_state=42)"
   ]
  },
  {
   "cell_type": "code",
   "execution_count": 54,
   "id": "legislative-leader",
   "metadata": {},
   "outputs": [],
   "source": [
    "X_train_eng = np.squeeze(np.stack([x.numpy() for x in X_train_eng]))\n",
    "X_test_eng = np.squeeze(np.stack([x.numpy() for x in X_test_eng]))\n",
    "#val = np.squeeze(np.stack([x.numpy() for x in val]))"
   ]
  },
  {
   "cell_type": "markdown",
   "id": "bridal-hostel",
   "metadata": {},
   "source": [
    "# Logistic regression"
   ]
  },
  {
   "cell_type": "markdown",
   "id": "identified-oracle",
   "metadata": {},
   "source": [
    "### Train - English only"
   ]
  },
  {
   "cell_type": "code",
   "execution_count": 77,
   "id": "devoted-guide",
   "metadata": {},
   "outputs": [
    {
     "name": "stdout",
     "output_type": "stream",
     "text": [
      "CPU times: user 54.6 s, sys: 1.33 s, total: 55.9 s\n",
      "Wall time: 16.2 s\n"
     ]
    },
    {
     "data": {
      "text/plain": [
       "Pipeline(steps=[('standardscaler', StandardScaler()),\n",
       "                ('logisticregression',\n",
       "                 LogisticRegression(class_weight='balanced', max_iter=1000))])"
      ]
     },
     "execution_count": 77,
     "metadata": {},
     "output_type": "execute_result"
    }
   ],
   "source": [
    "%%time\n",
    "pipe = make_pipeline(StandardScaler(), LogisticRegression( class_weight='balanced', max_iter=1000))\n",
    "#pipe = make_pipeline(StandardScaler(), LogisticRegression( max_iter=1000))\n",
    "\n",
    "pipe.fit(X_train_eng, y_train_eng)\n",
    "#clf = LogisticRegression(random_state=0).fit(train[0:1000],list(val_set.toxic[0:1000]) )\n"
   ]
  },
  {
   "cell_type": "code",
   "execution_count": 78,
   "id": "black-litigation",
   "metadata": {},
   "outputs": [
    {
     "data": {
      "text/plain": [
       "['logistic_regression_LABSE.pkl']"
      ]
     },
     "execution_count": 78,
     "metadata": {},
     "output_type": "execute_result"
    }
   ],
   "source": [
    "import joblib\n",
    "\n",
    "joblib.dump(pipe, \"logistic_regression_LABSE.pkl\") "
   ]
  },
  {
   "cell_type": "code",
   "execution_count": 79,
   "id": "bound-gothic",
   "metadata": {},
   "outputs": [],
   "source": [
    "clf2 = joblib.load(\"logistic_regression_LABSE.pkl\")"
   ]
  },
  {
   "cell_type": "code",
   "execution_count": 80,
   "id": "single-spiritual",
   "metadata": {},
   "outputs": [
    {
     "name": "stdout",
     "output_type": "stream",
     "text": [
      "              precision    recall  f1-score   support\n",
      "\n",
      "     class 0       0.89      0.99      0.94    122273\n",
      "     class 1       0.90      0.47      0.62     27504\n",
      "\n",
      "    accuracy                           0.89    149777\n",
      "   macro avg       0.90      0.73      0.78    149777\n",
      "weighted avg       0.89      0.89      0.88    149777\n",
      "\n"
     ]
    }
   ],
   "source": [
    "from sklearn.metrics import classification_report\n",
    "\n",
    "target_names = ['class 0', 'class 1']\n",
    "\n",
    "print(classification_report(clf2.predict(X_train_eng), y_train_eng, target_names=target_names))"
   ]
  },
  {
   "cell_type": "code",
   "execution_count": null,
   "id": "acquired-audio",
   "metadata": {},
   "outputs": [],
   "source": []
  },
  {
   "cell_type": "code",
   "execution_count": null,
   "id": "chubby-keyboard",
   "metadata": {},
   "outputs": [],
   "source": []
  },
  {
   "cell_type": "code",
   "execution_count": null,
   "id": "taken-witness",
   "metadata": {},
   "outputs": [],
   "source": []
  },
  {
   "cell_type": "code",
   "execution_count": 81,
   "id": "leading-enemy",
   "metadata": {},
   "outputs": [
    {
     "name": "stdout",
     "output_type": "stream",
     "text": [
      "              precision    recall  f1-score   support\n",
      "\n",
      "     class 0       0.89      0.99      0.94    122273\n",
      "     class 1       0.90      0.47      0.62     27504\n",
      "\n",
      "    accuracy                           0.89    149777\n",
      "   macro avg       0.90      0.73      0.78    149777\n",
      "weighted avg       0.89      0.89      0.88    149777\n",
      "\n"
     ]
    }
   ],
   "source": [
    "from sklearn.metrics import classification_report\n",
    "\n",
    "target_names = ['class 0', 'class 1']\n",
    "\n",
    "print(classification_report(pipe.predict(X_train_eng), y_train_eng, target_names=target_names))"
   ]
  },
  {
   "cell_type": "markdown",
   "id": "blind-nancy",
   "metadata": {},
   "source": [
    "### Test- Spanish only"
   ]
  },
  {
   "cell_type": "code",
   "execution_count": 57,
   "id": "incident-incentive",
   "metadata": {
    "scrolled": true
   },
   "outputs": [
    {
     "name": "stdout",
     "output_type": "stream",
     "text": [
      "              precision    recall  f1-score   support\n",
      "\n",
      "     class 0       0.76      0.95      0.85      1668\n",
      "     class 1       0.81      0.41      0.55       832\n",
      "\n",
      "    accuracy                           0.77      2500\n",
      "   macro avg       0.79      0.68      0.70      2500\n",
      "weighted avg       0.78      0.77      0.75      2500\n",
      "\n"
     ]
    }
   ],
   "source": [
    "from sklearn.metrics import classification_report\n",
    "\n",
    "target_names = ['class 0', 'class 1']\n",
    "\n",
    "print(classification_report(pipe.predict(val), list(val_set.toxic), target_names=target_names))"
   ]
  },
  {
   "cell_type": "code",
   "execution_count": 58,
   "id": "subsequent-jimmy",
   "metadata": {},
   "outputs": [
    {
     "name": "stdout",
     "output_type": "stream",
     "text": [
      "No Skill: ROC AUC=0.500\n",
      "Logistic: ROC AUC=0.870\n"
     ]
    },
    {
     "data": {
      "image/png": "[encoded data removed]",
      "text/plain": [
       "<Figure size 432x288 with 1 Axes>"
      ]
     },
     "metadata": {
      "needs_background": "light"
     },
     "output_type": "display_data"
    }
   ],
   "source": [
    "from sklearn.metrics import roc_curve\n",
    "from sklearn.metrics import roc_auc_score\n",
    "from matplotlib import pyplot\n",
    "\n",
    "# generate a no skill prediction (majority class)\n",
    "ns_probs = [0 for _ in range(len(list(val_set.toxic)))]\n",
    "\n",
    "lr_probs = pipe.predict_proba(val)\n",
    "# keep probabilities for the positive outcome only\n",
    "lr_probs = lr_probs[:, 1]\n",
    "# calculate scores\n",
    "ns_auc = roc_auc_score(list(val_set.toxic), ns_probs)\n",
    "lr_auc = roc_auc_score(list(val_set.toxic), lr_probs)\n",
    "# summarize scores\n",
    "print('No Skill: ROC AUC=%.3f' % (ns_auc))\n",
    "print('Logistic: ROC AUC=%.3f' % (lr_auc))\n",
    "# calculate roc curves\n",
    "ns_fpr, ns_tpr, _ = roc_curve(list(val_set.toxic), ns_probs)\n",
    "lr_fpr, lr_tpr, _ = roc_curve(list(val_set.toxic), lr_probs)\n",
    "# plot the roc curve for the model\n",
    "pyplot.plot(ns_fpr, ns_tpr, linestyle='--', label='No Skill')\n",
    "pyplot.plot(lr_fpr, lr_tpr, marker='.', label='Logistic')\n",
    "# axis labels\n",
    "pyplot.xlabel('False Positive Rate')\n",
    "pyplot.ylabel('True Positive Rate')\n",
    "# show the legend\n",
    "pyplot.legend()\n",
    "# show the plot\n",
    "pyplot.show()"
   ]
  },
  {
   "cell_type": "markdown",
   "id": "confidential-surgeon",
   "metadata": {},
   "source": [
    "### Test - English only"
   ]
  },
  {
   "cell_type": "code",
   "execution_count": 59,
   "id": "protective-coordination",
   "metadata": {},
   "outputs": [
    {
     "name": "stdout",
     "output_type": "stream",
     "text": [
      "              precision    recall  f1-score   support\n",
      "\n",
      "     class 0       0.89      0.99      0.94     60363\n",
      "     class 1       0.88      0.46      0.61     13409\n",
      "\n",
      "    accuracy                           0.89     73772\n",
      "   macro avg       0.89      0.72      0.77     73772\n",
      "weighted avg       0.89      0.89      0.88     73772\n",
      "\n"
     ]
    }
   ],
   "source": [
    "from sklearn.metrics import classification_report\n",
    "\n",
    "target_names = ['class 0', 'class 1']\n",
    "\n",
    "print(classification_report(pipe.predict(X_test_eng), y_test_eng, target_names=target_names))"
   ]
  },
  {
   "cell_type": "code",
   "execution_count": 60,
   "id": "prostate-graphics",
   "metadata": {},
   "outputs": [
    {
     "name": "stdout",
     "output_type": "stream",
     "text": [
      "No Skill: ROC AUC=0.500\n",
      "Logistic: ROC AUC=0.958\n"
     ]
    },
    {
     "data": {
      "image/png": "[encoded data removed]",
      "text/plain": [
       "<Figure size 432x288 with 1 Axes>"
      ]
     },
     "metadata": {
      "needs_background": "light"
     },
     "output_type": "display_data"
    }
   ],
   "source": [
    "from sklearn.metrics import roc_curve\n",
    "from sklearn.metrics import roc_auc_score\n",
    "from matplotlib import pyplot\n",
    "\n",
    "# generate a no skill prediction (majority class)\n",
    "ns_probs = [0 for _ in range(len(y_test_eng))]\n",
    "\n",
    "lr_probs = pipe.predict_proba(X_test_eng)\n",
    "# keep probabilities for the positive outcome only\n",
    "lr_probs = lr_probs[:, 1]\n",
    "# calculate scores\n",
    "ns_auc = roc_auc_score(y_test_eng, ns_probs)\n",
    "lr_auc = roc_auc_score(y_test_eng, lr_probs)\n",
    "# summarize scores\n",
    "print('No Skill: ROC AUC=%.3f' % (ns_auc))\n",
    "print('Logistic: ROC AUC=%.3f' % (lr_auc))\n",
    "# calculate roc curves\n",
    "ns_fpr, ns_tpr, _ = roc_curve(y_test_eng, ns_probs)\n",
    "lr_fpr, lr_tpr, _ = roc_curve(y_test_eng, lr_probs)\n",
    "# plot the roc curve for the model\n",
    "pyplot.plot(ns_fpr, ns_tpr, linestyle='--', label='No Skill')\n",
    "pyplot.plot(lr_fpr, lr_tpr, marker='.', label='Logistic')\n",
    "# axis labels\n",
    "pyplot.xlabel('False Positive Rate')\n",
    "pyplot.ylabel('True Positive Rate')\n",
    "# show the legend\n",
    "pyplot.legend()\n",
    "# show the plot\n",
    "pyplot.show()"
   ]
  },
  {
   "cell_type": "markdown",
   "id": "convertible-sperm",
   "metadata": {},
   "source": [
    "# MLP Classifier"
   ]
  },
  {
   "cell_type": "markdown",
   "id": "arctic-secret",
   "metadata": {},
   "source": [
    "### Train - English only"
   ]
  },
  {
   "cell_type": "code",
   "execution_count": 61,
   "id": "scenic-terminal",
   "metadata": {},
   "outputs": [
    {
     "name": "stderr",
     "output_type": "stream",
     "text": [
      "/home/ec2-user/anaconda3/envs/amazonei_pytorch_latest_p36/lib/python3.6/site-packages/sklearn/neural_network/_multilayer_perceptron.py:587: UserWarning: Training interrupted by user.\n",
      "  warnings.warn(\"Training interrupted by user.\")\n"
     ]
    },
    {
     "data": {
      "text/plain": [
       "Pipeline(steps=[('standardscaler', StandardScaler()),\n",
       "                ('mlpclassifier',\n",
       "                 MLPClassifier(hidden_layer_sizes=512, max_iter=300,\n",
       "                               random_state=1))])"
      ]
     },
     "execution_count": 61,
     "metadata": {},
     "output_type": "execute_result"
    }
   ],
   "source": [
    "from sklearn.neural_network import MLPClassifier\n",
    "\n",
    "clf = MLPClassifier(hidden_layer_sizes=512, random_state=1, max_iter=300)\n",
    "\n",
    "pipe = make_pipeline(StandardScaler(), clf)\n",
    "pipe.fit(X_train_eng, y_train_eng)"
   ]
  },
  {
   "cell_type": "code",
   "execution_count": 62,
   "id": "tribal-stand",
   "metadata": {},
   "outputs": [
    {
     "data": {
      "text/plain": [
       "Pipeline(steps=[('standardscaler', StandardScaler()),\n",
       "                ('mlpclassifier',\n",
       "                 MLPClassifier(hidden_layer_sizes=512, max_iter=300,\n",
       "                               random_state=1))])"
      ]
     },
     "execution_count": 62,
     "metadata": {},
     "output_type": "execute_result"
    }
   ],
   "source": [
    "from sklearn.neural_network import MLPClassifier\n",
    "\n",
    "clf = MLPClassifier(hidden_layer_sizes=512, random_state=1, max_iter=300)\n",
    "\n",
    "pipe = make_pipeline(StandardScaler(), clf)\n",
    "pipe.fit(X_train_eng[0:1000], y_train_eng[0:1000])"
   ]
  },
  {
   "cell_type": "code",
   "execution_count": 63,
   "id": "disabled-maryland",
   "metadata": {},
   "outputs": [
    {
     "name": "stdout",
     "output_type": "stream",
     "text": [
      "              precision    recall  f1-score   support\n",
      "\n",
      "     class 0       0.93      0.88      0.90      2179\n",
      "     class 1       0.40      0.52      0.45       321\n",
      "\n",
      "    accuracy                           0.84      2500\n",
      "   macro avg       0.66      0.70      0.68      2500\n",
      "weighted avg       0.86      0.84      0.85      2500\n",
      "\n"
     ]
    }
   ],
   "source": [
    "from sklearn.metrics import classification_report\n",
    "\n",
    "target_names = ['class 0', 'class 1']\n",
    "\n",
    "print(classification_report(pipe.predict(val), list(val_set.toxic), target_names=target_names))"
   ]
  },
  {
   "cell_type": "markdown",
   "id": "intense-praise",
   "metadata": {},
   "source": [
    "### Test- Spanish only"
   ]
  },
  {
   "cell_type": "code",
   "execution_count": 64,
   "id": "adjacent-stake",
   "metadata": {},
   "outputs": [
    {
     "name": "stdout",
     "output_type": "stream",
     "text": [
      "              precision    recall  f1-score   support\n",
      "\n",
      "     class 0       0.93      0.88      0.90      2179\n",
      "     class 1       0.40      0.52      0.45       321\n",
      "\n",
      "    accuracy                           0.84      2500\n",
      "   macro avg       0.66      0.70      0.68      2500\n",
      "weighted avg       0.86      0.84      0.85      2500\n",
      "\n"
     ]
    }
   ],
   "source": [
    "from sklearn.metrics import classification_report\n",
    "\n",
    "target_names = ['class 0', 'class 1']\n",
    "\n",
    "print(classification_report(pipe.predict(val), list(val_set.toxic), target_names=target_names))"
   ]
  },
  {
   "cell_type": "code",
   "execution_count": 65,
   "id": "hundred-insertion",
   "metadata": {},
   "outputs": [
    {
     "name": "stdout",
     "output_type": "stream",
     "text": [
      "No Skill: ROC AUC=0.500\n",
      "Logistic: ROC AUC=0.819\n"
     ]
    },
    {
     "data": {
      "image/png": "[encoded data removed]",
      "text/plain": [
       "<Figure size 432x288 with 1 Axes>"
      ]
     },
     "metadata": {
      "needs_background": "light"
     },
     "output_type": "display_data"
    }
   ],
   "source": [
    "from sklearn.metrics import roc_curve\n",
    "from sklearn.metrics import roc_auc_score\n",
    "from matplotlib import pyplot\n",
    "\n",
    "# generate a no skill prediction (majority class)\n",
    "ns_probs = [0 for _ in range(len(list(val_set.toxic)))]\n",
    "\n",
    "lr_probs = pipe.predict_proba(val)\n",
    "# keep probabilities for the positive outcome only\n",
    "lr_probs = lr_probs[:, 1]\n",
    "# calculate scores\n",
    "ns_auc = roc_auc_score(list(val_set.toxic), ns_probs)\n",
    "lr_auc = roc_auc_score(list(val_set.toxic), lr_probs)\n",
    "# summarize scores\n",
    "print('No Skill: ROC AUC=%.3f' % (ns_auc))\n",
    "print('Logistic: ROC AUC=%.3f' % (lr_auc))\n",
    "# calculate roc curves\n",
    "ns_fpr, ns_tpr, _ = roc_curve(list(val_set.toxic), ns_probs)\n",
    "lr_fpr, lr_tpr, _ = roc_curve(list(val_set.toxic), lr_probs)\n",
    "# plot the roc curve for the model\n",
    "pyplot.plot(ns_fpr, ns_tpr, linestyle='--', label='No Skill')\n",
    "pyplot.plot(lr_fpr, lr_tpr, marker='.', label='Logistic')\n",
    "# axis labels\n",
    "pyplot.xlabel('False Positive Rate')\n",
    "pyplot.ylabel('True Positive Rate')\n",
    "# show the legend\n",
    "pyplot.legend()\n",
    "# show the plot\n",
    "pyplot.show()"
   ]
  },
  {
   "cell_type": "markdown",
   "id": "pointed-bosnia",
   "metadata": {},
   "source": [
    "### Test - English only\n"
   ]
  },
  {
   "cell_type": "code",
   "execution_count": 66,
   "id": "hispanic-franchise",
   "metadata": {},
   "outputs": [
    {
     "name": "stdout",
     "output_type": "stream",
     "text": [
      "              precision    recall  f1-score   support\n",
      "\n",
      "     class 0       0.97      0.95      0.96     68393\n",
      "     class 1       0.51      0.66      0.57      5379\n",
      "\n",
      "    accuracy                           0.93     73772\n",
      "   macro avg       0.74      0.81      0.77     73772\n",
      "weighted avg       0.94      0.93      0.93     73772\n",
      "\n"
     ]
    }
   ],
   "source": [
    "from sklearn.metrics import classification_report\n",
    "\n",
    "target_names = ['class 0', 'class 1']\n",
    "\n",
    "print(classification_report(pipe.predict(X_test_eng), y_test_eng, target_names=target_names))"
   ]
  },
  {
   "cell_type": "code",
   "execution_count": 67,
   "id": "sized-relationship",
   "metadata": {},
   "outputs": [
    {
     "name": "stdout",
     "output_type": "stream",
     "text": [
      "No Skill: ROC AUC=0.500\n",
      "Logistic: ROC AUC=0.912\n"
     ]
    },
    {
     "data": {
      "image/png": "[encoded data removed]",
      "text/plain": [
       "<Figure size 432x288 with 1 Axes>"
      ]
     },
     "metadata": {
      "needs_background": "light"
     },
     "output_type": "display_data"
    }
   ],
   "source": [
    "from sklearn.metrics import roc_curve\n",
    "from sklearn.metrics import roc_auc_score\n",
    "from matplotlib import pyplot\n",
    "\n",
    "# generate a no skill prediction (majority class)\n",
    "ns_probs = [0 for _ in range(len(y_test_eng))]\n",
    "\n",
    "lr_probs = pipe.predict_proba(X_test_eng)\n",
    "# keep probabilities for the positive outcome only\n",
    "lr_probs = lr_probs[:, 1]\n",
    "# calculate scores\n",
    "ns_auc = roc_auc_score(y_test_eng, ns_probs)\n",
    "lr_auc = roc_auc_score(y_test_eng, lr_probs)\n",
    "# summarize scores\n",
    "print('No Skill: ROC AUC=%.3f' % (ns_auc))\n",
    "print('Logistic: ROC AUC=%.3f' % (lr_auc))\n",
    "# calculate roc curves\n",
    "ns_fpr, ns_tpr, _ = roc_curve(y_test_eng, ns_probs)\n",
    "lr_fpr, lr_tpr, _ = roc_curve(y_test_eng, lr_probs)\n",
    "# plot the roc curve for the model\n",
    "pyplot.plot(ns_fpr, ns_tpr, linestyle='--', label='No Skill')\n",
    "pyplot.plot(lr_fpr, lr_tpr, marker='.', label='Logistic')\n",
    "# axis labels\n",
    "pyplot.xlabel('False Positive Rate')\n",
    "pyplot.ylabel('True Positive Rate')\n",
    "# show the legend\n",
    "pyplot.legend()\n",
    "# show the plot\n",
    "pyplot.show()"
   ]
  },
  {
   "cell_type": "markdown",
   "id": "cellular-walnut",
   "metadata": {},
   "source": [
    "# Neural Network"
   ]
  },
  {
   "cell_type": "code",
   "execution_count": 68,
   "id": "medium-control",
   "metadata": {},
   "outputs": [],
   "source": [
    "import torch\n",
    "import torch.nn as nn\n",
    "import torch.optim as optim\n",
    "from torch.optim import lr_scheduler\n",
    "import numpy as np\n",
    "import torchvision\n",
    "from torchvision import datasets, models\n",
    "\n",
    "class net(nn.Module):\n",
    "\n",
    "    def __init__(self):\n",
    "\n",
    "        super(net, self).__init__()\n",
    "        # dropout layer\n",
    "        self.dropout = nn.Dropout(0.1)\n",
    "        # relu activation function\n",
    "        self.relu =  nn.ReLU()\n",
    "        # dense layer 1\n",
    "        self.fc1 = nn.Linear(768,512)\n",
    "        # dense layer 2 (Output layer)\n",
    "        self.fc2 = nn.Linear(512,2)\n",
    "        #softmax activation function\n",
    "        self.softmax = nn.LogSoftmax(dim=1)\n",
    "    \n",
    "    #define the forward pass\n",
    "    def forward(self, in_vec):\n",
    "        \n",
    "        #pass the inputs to the model  \n",
    "        x = self.fc1(in_vec)\n",
    "        x = self.relu(x)\n",
    "        x = self.dropout(x)\n",
    "        # output layer\n",
    "        x = self.fc2(x)\n",
    "        # apply softmax activation\n",
    "        x = self.softmax(x)\n",
    "\n",
    "        return x"
   ]
  },
  {
   "cell_type": "code",
   "execution_count": 69,
   "id": "curious-acceptance",
   "metadata": {},
   "outputs": [
    {
     "name": "stdout",
     "output_type": "stream",
     "text": [
      "Class Weights: [0.55309084 5.20891006]\n"
     ]
    },
    {
     "name": "stderr",
     "output_type": "stream",
     "text": [
      "/home/ec2-user/anaconda3/envs/amazonei_pytorch_latest_p36/lib/python3.6/site-packages/sklearn/utils/validation.py:70: FutureWarning: Pass classes=[0 1], y=104964    0\n",
      "217103    0\n",
      "98660     0\n",
      "86003     0\n",
      "201197    0\n",
      "         ..\n",
      "119879    0\n",
      "103694    0\n",
      "131932    1\n",
      "146867    0\n",
      "121958    0\n",
      "Name: toxic, Length: 149777, dtype: int64 as keyword args. From version 0.25 passing these as positional arguments will result in an error\n",
      "  FutureWarning)\n"
     ]
    }
   ],
   "source": [
    "from sklearn.utils.class_weight import compute_class_weight\n",
    "\n",
    "#compute the class weights\n",
    "class_weights = compute_class_weight('balanced', np.unique(y_train_eng), y_train_eng)\n",
    "\n",
    "print(\"Class Weights:\",class_weights)\n",
    "\n"
   ]
  },
  {
   "cell_type": "code",
   "execution_count": 70,
   "id": "incoming-gambling",
   "metadata": {},
   "outputs": [],
   "source": [
    "import time\n",
    "import copy\n",
    "\n",
    "train_loss = []\n",
    "train_con = []\n",
    "\n",
    "eval_loss = []\n",
    "eval_con = []\n",
    "\n",
    "def train_model(model, dataloaders, criterion, optimizer, scheduler, num_epochs=25):\n",
    "    since = time.time()\n",
    "\n",
    "    # Init variables that will save info about the best model\n",
    "    best_model_wts = copy.deepcopy(model.state_dict())\n",
    "    best_acc = 0.0\n",
    "\n",
    "    for epoch in range(num_epochs):\n",
    "        print('Epoch {}/{}'.format(epoch, num_epochs - 1))\n",
    "        print('-' * 10)\n",
    "\n",
    "        # Each epoch has a training and validation phase\n",
    "        for phase in ['train', 'val']:\n",
    "            if phase == 'train':\n",
    "                # Set model to training mode. \n",
    "                model.train()  \n",
    "            else:\n",
    "                # Set model to evaluate mode. In evaluate mode, we don't perform backprop and don't need to keep the gradients\n",
    "                model.eval()   \n",
    "\n",
    "            running_loss = 0.0\n",
    "            running_corrects = 0\n",
    "\n",
    "            # Iterate over data\n",
    "            i = 0 \n",
    "            for inputs, labels in dataloaders[phase]:\n",
    "                # Prepare the inputs for GPU/CPU\n",
    "                inputs = inputs.to(device)\n",
    "                labels = labels.to(device)\n",
    "                \n",
    "                # zero the parameter gradients\n",
    "                optimizer.zero_grad()\n",
    "\n",
    "                # ===== forward pass ======\n",
    "                with torch.set_grad_enabled(phase=='train'):\n",
    "                    # If we're in train mode, we'll track the gradients to allow back-propagation\n",
    "                    outputs = model(inputs) # apply the model to the inputs. The output is the softmax probability of each class\n",
    "                    _, preds = torch.max(outputs, 1) # \n",
    "                    #print(outputs, labels)\n",
    "\n",
    "                    loss = criterion(outputs, labels)\n",
    "\n",
    "                    # ==== backward pass + optimizer step ====\n",
    "                    # This runs only in the training phase\n",
    "                    if phase == 'train':\n",
    "                        loss.backward() # Perform a step in the opposite direction of the gradient\n",
    "                        optimizer.step() # Adapt the optimizer\n",
    "\n",
    "\n",
    "                # Collect statistics\n",
    "                running_loss += loss.item() * inputs.size(0)\n",
    "                running_corrects += torch.sum(preds == labels.data)\n",
    "\n",
    "                \n",
    "            if phase == 'train':\n",
    "                # Adjust the learning rate based on the scheduler\n",
    "                scheduler.step()\n",
    " \n",
    "\n",
    "            epoch_loss = running_loss / dataset_sizes[phase]\n",
    "            epoch_acc = running_corrects.double() / dataset_sizes[phase]\n",
    "            #writer.add_histogram(\"conv1.weight_hist\", model.conv1.weight, epoch)\n",
    "            #writer.add_histogram(\"conv1.weight_avg\", model.conv1.weight.mean(), epoch)\n",
    "            #writer.add_histogram(\"model_loss\", loss.item(), epoch)\n",
    "\n",
    "            if phase == 'train':\n",
    "                train_loss.append(epoch_loss)\n",
    "                train_con.append(epoch_acc)\n",
    "                i += 1\n",
    "                #writer.add_scalar('training loss', running_loss / 1000, epoch * len(dataloaders['train']) + i) \n",
    "            if phase == 'val':\n",
    "                eval_loss.append(epoch_loss)\n",
    "                eval_con.append(epoch_acc)\n",
    "                i += 1\n",
    "                #writer.add_scalar('eval loss', running_loss / 1000, epoch * len(dataloaders['train']) + i) \n",
    "                #print(\"pred {0} lable: {1}\".format(preds, labels.data))\n",
    "\n",
    "            print(f'{phase} Loss: {epoch_loss:.4f} Acc: {epoch_acc:.4f}')\n",
    "\n",
    "            # Keep the results of the best model so far\n",
    "            if phase == 'val' and epoch_acc > best_acc:\n",
    "                best_acc = epoch_acc\n",
    "                # deepcopy the model\n",
    "                best_model_wts = copy.deepcopy(model.state_dict())\n",
    "\n",
    "        print()\n",
    "\n",
    "    time_elapsed = time.time() - since\n",
    "    print(f'Training complete in {(time_elapsed // 60):.0f}m {(time_elapsed % 60):.0f}s')\n",
    "    print(f'Best val Acc: {best_acc:4f}')\n",
    "\n",
    "    # load best model weights\n",
    "    model.load_state_dict(best_model_wts)\n",
    "    torch.save(model.state_dict(), 'saved_weights.pt')\n",
    "    return model, train_loss, train_con, eval_loss, eval_con"
   ]
  },
  {
   "cell_type": "code",
   "execution_count": 71,
   "id": "oriented-request",
   "metadata": {},
   "outputs": [],
   "source": [
    "from transformers import AdamW\n",
    "\n",
    "model = net()\n",
    "model.cuda()\n",
    "device = torch.device(\"cuda:0\" if torch.cuda.is_available() else \"cpu\")\n",
    "#device = \"cpu\"\n",
    "# converting list of class weights to a tensor\n",
    "weights= torch.tensor(class_weights,dtype=torch.float)\n",
    "\n",
    "# push to GPU\n",
    "weights = weights.to(device)\n",
    "\n",
    "# define the loss function\n",
    "cross_entropy  = nn.NLLLoss(weight=weights) \n",
    "\n",
    "# define the optimizer\n",
    "optimizer = AdamW(model.parameters(),\n",
    "                  lr = 1e-5)          # learning rate\n",
    "\n",
    "my_lr_scheduler = lr_scheduler.StepLR(optimizer, step_size=7, gamma=0.1)"
   ]
  },
  {
   "cell_type": "code",
   "execution_count": 72,
   "id": "surgical-management",
   "metadata": {},
   "outputs": [
    {
     "ename": "NameError",
     "evalue": "name 'TensorDataset' is not defined",
     "output_type": "error",
     "traceback": [
      "\u001b[0;31m---------------------------------------------------------------------------\u001b[0m",
      "\u001b[0;31mNameError\u001b[0m                                 Traceback (most recent call last)",
      "\u001b[0;32m<ipython-input-72-188e9ecbc9ad>\u001b[0m in \u001b[0;36m<module>\u001b[0;34m\u001b[0m\n\u001b[1;32m      5\u001b[0m \u001b[0mtensor_y_val\u001b[0m \u001b[0;34m=\u001b[0m \u001b[0mtorch\u001b[0m\u001b[0;34m.\u001b[0m\u001b[0mfrom_numpy\u001b[0m\u001b[0;34m(\u001b[0m\u001b[0mnp\u001b[0m\u001b[0;34m.\u001b[0m\u001b[0marray\u001b[0m\u001b[0;34m(\u001b[0m\u001b[0my_test_eng\u001b[0m\u001b[0;34m)\u001b[0m\u001b[0;34m)\u001b[0m\u001b[0;34m\u001b[0m\u001b[0;34m\u001b[0m\u001b[0m\n\u001b[1;32m      6\u001b[0m \u001b[0;34m\u001b[0m\u001b[0m\n\u001b[0;32m----> 7\u001b[0;31m \u001b[0mdatasets\u001b[0m \u001b[0;34m=\u001b[0m \u001b[0;34m{\u001b[0m\u001b[0;34m'train'\u001b[0m\u001b[0;34m:\u001b[0m\u001b[0mTensorDataset\u001b[0m\u001b[0;34m(\u001b[0m\u001b[0mtensor_x_train\u001b[0m\u001b[0;34m,\u001b[0m \u001b[0mtensor_y_train\u001b[0m\u001b[0;34m)\u001b[0m \u001b[0;34m,\u001b[0m\u001b[0;34m'val'\u001b[0m\u001b[0;34m:\u001b[0m\u001b[0mTensorDataset\u001b[0m\u001b[0;34m(\u001b[0m\u001b[0mtensor_x_val\u001b[0m\u001b[0;34m,\u001b[0m \u001b[0mtensor_y_val\u001b[0m\u001b[0;34m)\u001b[0m  \u001b[0;34m}\u001b[0m\u001b[0;34m\u001b[0m\u001b[0;34m\u001b[0m\u001b[0m\n\u001b[0m\u001b[1;32m      8\u001b[0m \u001b[0;34m\u001b[0m\u001b[0m\n\u001b[1;32m      9\u001b[0m \u001b[0;34m\u001b[0m\u001b[0m\n",
      "\u001b[0;31mNameError\u001b[0m: name 'TensorDataset' is not defined"
     ]
    }
   ],
   "source": [
    "tensor_x_train = torch.from_numpy(np.array(X_train_eng)) # transform to torch tensor\n",
    "tensor_y_train = torch.from_numpy(np.array(y_train_eng))\n",
    "\n",
    "tensor_x_val = torch.from_numpy(np.array(X_test_eng)) # transform to torch tensor\n",
    "tensor_y_val = torch.from_numpy(np.array(y_test_eng))\n",
    "\n",
    "datasets = {'train':TensorDataset(tensor_x_train, tensor_y_train) ,'val':TensorDataset(tensor_x_val, tensor_y_val)  }\n",
    "\n",
    "\n",
    "dataloaders_my = {\n",
    "    'train': torch.utils.data.DataLoader(datasets['train'], batch_size=16,\n",
    "                                             shuffle=True, num_workers=2),\n",
    "    'val': torch.utils.data.DataLoader(datasets['val'], batch_size=16,\n",
    "                                          shuffle=False, num_workers=2)\n",
    "  }"
   ]
  },
  {
   "cell_type": "code",
   "execution_count": null,
   "id": "prospective-catch",
   "metadata": {},
   "outputs": [],
   "source": [
    "from torch.utils.tensorboard import SummaryWriter\n",
    "\n",
    "# default `log_dir` is \"runs\" - we'll be more specific here\n",
    "#writer = SummaryWriter('/runs/')"
   ]
  },
  {
   "cell_type": "markdown",
   "id": "neither-valuation",
   "metadata": {},
   "source": [
    "# Train - English only"
   ]
  },
  {
   "cell_type": "code",
   "execution_count": null,
   "id": "surface-marketplace",
   "metadata": {},
   "outputs": [],
   "source": [
    "dataset_sizes = {x: len(datasets[x]) for x in ['train', 'val']}\n",
    "\n",
    "train_loss = []\n",
    "train_con = []\n",
    "\n",
    "eval_loss = []\n",
    "eval_con = []\n",
    "\n",
    "num_epochs=10\n",
    "#inputs, labels = inputs.to(device), labels.to(device)\n",
    "\n",
    "model, train_loss, train_con, eval_loss, eval_con  = train_model(model, \n",
    "                    dataloaders_my,\n",
    "                       cross_entropy, \n",
    "                       optimizer, \n",
    "                       my_lr_scheduler,\n",
    "                       num_epochs=num_epochs)"
   ]
  },
  {
   "cell_type": "code",
   "execution_count": null,
   "id": "tired-shirt",
   "metadata": {},
   "outputs": [],
   "source": [
    "plt.figure(1)\n",
    "plt.plot(train_loss, label='train')\n",
    "plt.plot(eval_loss, label='eval')\n",
    "plt.ylabel('Loss')\n",
    "plt.xlabel('epoch')\n",
    "plt.legend()\n",
    "\n",
    "plt.figure(2)\n",
    "plt.plot(train_con, label='train')\n",
    "plt.plot(eval_con, label='eval')\n",
    "plt.ylabel('accuracy')\n",
    "plt.xlabel('epoch')\n",
    "\n",
    "plt.legend()\n",
    "plt.show()"
   ]
  },
  {
   "cell_type": "markdown",
   "id": "pacific-potato",
   "metadata": {},
   "source": [
    "### Test - English only"
   ]
  },
  {
   "cell_type": "code",
   "execution_count": null,
   "id": "challenging-british",
   "metadata": {},
   "outputs": [],
   "source": [
    "predlist=torch.zeros(0,dtype=torch.long, device='cpu')\n",
    "lbllist=torch.zeros(0,dtype=torch.long, device='cpu')\n",
    "with torch.no_grad(): # No need to collect gradients when generating predictions\n",
    "    for i, (inputs, labels) in enumerate(dataloaders_my['val']):\n",
    "        inputs = inputs.to(device)\n",
    "        labels = labels.to(device)\n",
    "        model.eval()\n",
    "        outputs = model(inputs)\n",
    "        _, preds = torch.max(outputs, 1)\n",
    "        \n",
    "        predlist=torch.cat([predlist, preds.view(-1).cpu()])\n",
    "        lbllist=torch.cat([lbllist, labels.view(-1).cpu()])"
   ]
  },
  {
   "cell_type": "code",
   "execution_count": null,
   "id": "gothic-rough",
   "metadata": {},
   "outputs": [],
   "source": [
    "from sklearn.metrics import classification_report\n",
    "\n",
    "target_names = ['class 0', 'class 1']\n",
    "\n",
    "print(classification_report(predlist, lbllist, target_names=target_names))"
   ]
  },
  {
   "cell_type": "code",
   "execution_count": null,
   "id": "victorian-township",
   "metadata": {},
   "outputs": [],
   "source": [
    "# Initialize the prediction and label lists(tensors)\n",
    "predlist = torch.zeros(0,dtype=torch.long, device='cpu')\n",
    "lbllist = torch.zeros(0,dtype=torch.long, device='cpu')\n",
    "problist = torch.zeros(0,dtype=torch.float, device='cpu')\n",
    "inputslist = torch.zeros(0,dtype=torch.float, device='cpu')\n",
    "outputslist = torch.zeros(0,dtype=torch.float, device='cpu')\n",
    "\n",
    "with torch.no_grad():\n",
    "    for i, (inputs, classes) in enumerate(dataloaders_my['val']):\n",
    "        inputs = inputs.to(device)\n",
    "        classes = classes.to(device)\n",
    "        outputs = model(inputs)\n",
    "        prob, preds = torch.max(outputs, 1)\n",
    "\n",
    "        # Append batch prediction results\n",
    "        predlist = torch.cat([predlist, preds.view(-1).cpu()])\n",
    "        lbllist = torch.cat([lbllist, classes.view(-1).cpu()])\n",
    "        problist = torch.cat([problist, torch.exp(prob).view(-1).cpu()])\n",
    "        inputslist = torch.cat([inputslist, inputs.cpu()])\n",
    "        outputslist = torch.cat([outputslist, outputs.cpu()])"
   ]
  },
  {
   "cell_type": "code",
   "execution_count": null,
   "id": "public-ecuador",
   "metadata": {},
   "outputs": [],
   "source": [
    "from sklearn.metrics import roc_curve\n",
    "from sklearn.metrics import roc_auc_score\n",
    "from matplotlib import pyplot\n",
    "\n",
    "# generate a no skill prediction (majority class)\n",
    "ns_probs = [0 for _ in range(len(y_test_eng))]\n",
    "\n",
    "#lr_probs = pipe.predict_proba(X_test_eng)\n",
    "# keep probabilities for the positive outcome only\n",
    "lr_probs = problist\n",
    "# calculate scores\n",
    "ns_auc = roc_auc_score(y_test_eng, ns_probs)\n",
    "lr_auc = roc_auc_score(y_test_eng, lr_probs)\n",
    "# summarize scores\n",
    "print('No Skill: ROC AUC=%.3f' % (ns_auc))\n",
    "print('Logistic: ROC AUC=%.3f' % (lr_auc))\n",
    "# calculate roc curves\n",
    "ns_fpr, ns_tpr, _ = roc_curve(y_test_eng, ns_probs)\n",
    "lr_fpr, lr_tpr, _ = roc_curve(y_test_eng, lr_probs)\n",
    "# plot the roc curve for the model\n",
    "pyplot.plot(ns_fpr, ns_tpr, linestyle='--', label='No Skill')\n",
    "pyplot.plot(lr_fpr, lr_tpr, marker='.', label='Logistic')\n",
    "# axis labels\n",
    "pyplot.xlabel('False Positive Rate')\n",
    "pyplot.ylabel('True Positive Rate')\n",
    "# show the legend\n",
    "pyplot.legend()\n",
    "# show the plot\n",
    "pyplot.show()"
   ]
  },
  {
   "cell_type": "markdown",
   "id": "automotive-private",
   "metadata": {},
   "source": [
    "### Test- Spanish only"
   ]
  },
  {
   "cell_type": "code",
   "execution_count": null,
   "id": "authorized-reader",
   "metadata": {},
   "outputs": [],
   "source": [
    "tensor_x_val_spanish = torch.from_numpy(np.array(val)) # transform to torch tensor\n",
    "tensor_y_val_spanish = torch.from_numpy(np.array(val_set.toxic))\n",
    "\n",
    "datasets_spanish = {'val':TensorDataset(tensor_x_val_spanish, tensor_y_val_spanish)  }\n",
    "\n",
    "\n",
    "dataloaders_spanish = {\n",
    "    'val': torch.utils.data.DataLoader(datasets_spanish['val'], batch_size=16,\n",
    "                                          shuffle=False, num_workers=2)\n",
    "  }"
   ]
  },
  {
   "cell_type": "code",
   "execution_count": null,
   "id": "northern-archive",
   "metadata": {},
   "outputs": [],
   "source": [
    "predlist=torch.zeros(0,dtype=torch.long, device='cpu')\n",
    "lbllist=torch.zeros(0,dtype=torch.long, device='cpu')\n",
    "with torch.no_grad(): # No need to collect gradients when generating predictions\n",
    "    for i, (inputs, labels) in enumerate(dataloaders_spanish['val']):\n",
    "        inputs = inputs.to(device)\n",
    "        labels = labels.to(device)\n",
    "        model.eval()\n",
    "        outputs = model(inputs)\n",
    "        _, preds = torch.max(outputs, 1)\n",
    "        \n",
    "        predlist=torch.cat([predlist, preds.view(-1).cpu()])\n",
    "        lbllist=torch.cat([lbllist, labels.view(-1).cpu()])"
   ]
  },
  {
   "cell_type": "code",
   "execution_count": null,
   "id": "subsequent-scientist",
   "metadata": {},
   "outputs": [],
   "source": [
    "from sklearn.metrics import classification_report\n",
    "\n",
    "target_names = ['class 0', 'class 1']\n",
    "\n",
    "print(classification_report(predlist, lbllist, target_names=target_names))"
   ]
  },
  {
   "cell_type": "markdown",
   "id": "atmospheric-politics",
   "metadata": {},
   "source": [
    "# Visualize the embeddings"
   ]
  },
  {
   "cell_type": "code",
   "execution_count": null,
   "id": "prepared-suffering",
   "metadata": {},
   "outputs": [],
   "source": [
    "N=1000"
   ]
  },
  {
   "cell_type": "code",
   "execution_count": null,
   "id": "tough-metabolism",
   "metadata": {},
   "outputs": [],
   "source": [
    "tsne_model = TSNE(perplexity=40, n_components=2, init='pca', n_iter=2500, random_state=23, n_jobs=7)\n",
    "new_values = tsne_model.fit_transform(train[0:N])"
   ]
  },
  {
   "cell_type": "code",
   "execution_count": null,
   "id": "brutal-execution",
   "metadata": {},
   "outputs": [],
   "source": [
    "import matplotlib\n",
    "import matplotlib.pyplot as plt\n",
    "import numpy as np\n",
    "x = []\n",
    "y = []\n",
    "for value in new_values:\n",
    "    x.append(value[0])\n",
    "    y.append(value[1])\n",
    "    \n",
    "colors = ['red','blue']\n",
    "\n",
    "fig = plt.figure(figsize=(8, 6))\n",
    "plt.scatter(x[0:N], y[0:N], c=list(train_set.toxic)[0:N], cmap=matplotlib.colors.ListedColormap(colors))\n",
    "\n",
    "cb = plt.colorbar()\n",
    "loc = np.arange(0,max(label),max(label)/float(len(colors)))\n",
    "cb.set_ticks(loc)\n",
    "cb.set_ticklabels(colors)"
   ]
  }
 ],
 "metadata": {
  "kernelspec": {
   "display_name": "conda_amazonei_pytorch_latest_p36",
   "language": "python",
   "name": "conda_amazonei_pytorch_latest_p36"
  },
  "language_info": {
   "codemirror_mode": {
    "name": "ipython",
    "version": 3
   },
   "file_extension": ".py",
   "mimetype": "text/x-python",
   "name": "python",
   "nbconvert_exporter": "python",
   "pygments_lexer": "ipython3",
   "version": "3.6.13"
  }
 },
 "nbformat": 4,
 "nbformat_minor": 5
}
