{
 "cells": [
  {
   "cell_type": "code",
   "execution_count": 1,
   "id": "hindu-occasion",
   "metadata": {},
   "outputs": [],
   "source": [
    "import pandas as pd\n",
    "import pickle\n",
    "import numpy as np\n",
    "from sklearn.manifold import TSNE\n",
    "import matplotlib.pyplot as plt\n",
    "\n",
    "from sklearn.linear_model import LogisticRegression\n",
    "from sklearn.pipeline import make_pipeline\n",
    "from sklearn.preprocessing import StandardScaler"
   ]
  },
  {
   "cell_type": "code",
   "execution_count": 2,
   "id": "dying-prospect",
   "metadata": {},
   "outputs": [],
   "source": [
    "def _read_pickle(file_name):\n",
    "    return pd.read_pickle(file_name)\n",
    "\n",
    "def read_data(file_name):\n",
    "    \n",
    "    df = _read_pickle(file_name)\n",
    "    a = [] \n",
    "    for t in df:\n",
    "        a.append(np.squeeze(t.numpy(), 0))\n",
    "\n",
    "    return a\n"
   ]
  },
  {
   "cell_type": "markdown",
   "id": "composite-place",
   "metadata": {},
   "source": [
    "# Data Loading"
   ]
  },
  {
   "cell_type": "code",
   "execution_count": 3,
   "id": "aware-private",
   "metadata": {},
   "outputs": [],
   "source": [
    "train = read_data('jigsaw_toxic-comment_train_embedded.pkl')\n"
   ]
  },
  {
   "cell_type": "code",
   "execution_count": 4,
   "id": "heated-crisis",
   "metadata": {},
   "outputs": [],
   "source": [
    "val = read_data('validation_es_only_text.pkl')"
   ]
  },
  {
   "cell_type": "code",
   "execution_count": 5,
   "id": "occupational-concentration",
   "metadata": {},
   "outputs": [],
   "source": [
    "train_path = 'data/jigsaw-toxic-comment-train.csv'\n",
    "val_path = 'data/val_es_toxic.csv' "
   ]
  },
  {
   "cell_type": "code",
   "execution_count": 6,
   "id": "surprised-revelation",
   "metadata": {},
   "outputs": [],
   "source": [
    "train_set = pd.read_csv(train_path)\n",
    "val_set = pd.read_csv(val_path)"
   ]
  },
  {
   "cell_type": "code",
   "execution_count": 7,
   "id": "assigned-horizon",
   "metadata": {},
   "outputs": [],
   "source": [
    "from sklearn.model_selection import train_test_split\n",
    "X_train_eng, X_test_eng, y_train_eng, y_test_eng = train_test_split(train, train_set.toxic, test_size=0.33, random_state=42)"
   ]
  },
  {
   "cell_type": "markdown",
   "id": "future-paradise",
   "metadata": {},
   "source": [
    "# Logistic regression"
   ]
  },
  {
   "cell_type": "markdown",
   "id": "behind-baptist",
   "metadata": {},
   "source": [
    "### Train - English only"
   ]
  },
  {
   "cell_type": "code",
   "execution_count": 8,
   "id": "younger-spice",
   "metadata": {},
   "outputs": [
    {
     "data": {
      "text/plain": [
       "Pipeline(steps=[('standardscaler', StandardScaler()),\n",
       "                ('logisticregression',\n",
       "                 LogisticRegression(class_weight='balanced', max_iter=1000))])"
      ]
     },
     "execution_count": 8,
     "metadata": {},
     "output_type": "execute_result"
    }
   ],
   "source": [
    "pipe = make_pipeline(StandardScaler(), LogisticRegression( class_weight='balanced',max_iter=1000))\n",
    "pipe.fit(X_train_eng, y_train_eng)\n",
    "#clf = LogisticRegression(random_state=0).fit(train[0:1000],list(val_set.toxic[0:1000]) )\n"
   ]
  },
  {
   "cell_type": "markdown",
   "id": "surprising-conversion",
   "metadata": {},
   "source": [
    "### Test- Spanish only"
   ]
  },
  {
   "cell_type": "code",
   "execution_count": 9,
   "id": "approximate-finland",
   "metadata": {},
   "outputs": [
    {
     "name": "stdout",
     "output_type": "stream",
     "text": [
      "              precision    recall  f1-score   support\n",
      "\n",
      "     class 0       0.87      0.93      0.90      1958\n",
      "     class 1       0.66      0.51      0.58       542\n",
      "\n",
      "    accuracy                           0.84      2500\n",
      "   macro avg       0.77      0.72      0.74      2500\n",
      "weighted avg       0.83      0.84      0.83      2500\n",
      "\n"
     ]
    }
   ],
   "source": [
    "from sklearn.metrics import classification_report\n",
    "\n",
    "target_names = ['class 0', 'class 1']\n",
    "\n",
    "print(classification_report(pipe.predict(val), list(val_set.toxic), target_names=target_names))"
   ]
  },
  {
   "cell_type": "code",
   "execution_count": 13,
   "id": "essential-boost",
   "metadata": {},
   "outputs": [
    {
     "data": {
      "text/plain": [
       "array([[0.40395798, 0.59604202],\n",
       "       [0.81344313, 0.18655687],\n",
       "       [0.9938373 , 0.0061627 ],\n",
       "       ...,\n",
       "       [0.99060713, 0.00939287],\n",
       "       [0.19621546, 0.80378454],\n",
       "       [0.97367316, 0.02632684]])"
      ]
     },
     "execution_count": 13,
     "metadata": {},
     "output_type": "execute_result"
    }
   ],
   "source": [
    " pipe.predict_proba(val)"
   ]
  },
  {
   "cell_type": "code",
   "execution_count": 15,
   "id": "suffering-entry",
   "metadata": {},
   "outputs": [
    {
     "data": {
      "text/plain": [
       "array([0.59604202, 0.18655687, 0.0061627 , ..., 0.00939287, 0.80378454,\n",
       "       0.02632684])"
      ]
     },
     "execution_count": 15,
     "metadata": {},
     "output_type": "execute_result"
    }
   ],
   "source": [
    " pipe.predict_proba(val)[:,1]"
   ]
  },
  {
   "cell_type": "code",
   "execution_count": 10,
   "id": "czech-likelihood",
   "metadata": {},
   "outputs": [
    {
     "name": "stdout",
     "output_type": "stream",
     "text": [
      "No Skill: ROC AUC=0.500\n",
      "Logistic: ROC AUC=0.873\n"
     ]
    },
    {
     "data": {
      "image/png": "[encoded data removed]",
      "text/plain": [
       "<Figure size 432x288 with 1 Axes>"
      ]
     },
     "metadata": {
      "needs_background": "light"
     },
     "output_type": "display_data"
    }
   ],
   "source": [
    "from sklearn.metrics import roc_curve\n",
    "from sklearn.metrics import roc_auc_score\n",
    "from matplotlib import pyplot\n",
    "\n",
    "# generate a no skill prediction (majority class)\n",
    "ns_probs = [0 for _ in range(len(list(val_set.toxic)))]\n",
    "\n",
    "lr_probs = pipe.predict_proba(val)\n",
    "# keep probabilities for the positive outcome only\n",
    "lr_probs = lr_probs[:, 1]\n",
    "# calculate scores\n",
    "ns_auc = roc_auc_score(list(val_set.toxic), ns_probs)\n",
    "lr_auc = roc_auc_score(list(val_set.toxic), lr_probs)\n",
    "# summarize scores\n",
    "print('No Skill: ROC AUC=%.3f' % (ns_auc))\n",
    "print('Logistic: ROC AUC=%.3f' % (lr_auc))\n",
    "# calculate roc curves\n",
    "ns_fpr, ns_tpr, _ = roc_curve(list(val_set.toxic), ns_probs)\n",
    "lr_fpr, lr_tpr, _ = roc_curve(list(val_set.toxic), lr_probs)\n",
    "# plot the roc curve for the model\n",
    "pyplot.plot(ns_fpr, ns_tpr, linestyle='--', label='No Skill')\n",
    "pyplot.plot(lr_fpr, lr_tpr, marker='.', label='Logistic')\n",
    "# axis labels\n",
    "pyplot.xlabel('False Positive Rate')\n",
    "pyplot.ylabel('True Positive Rate')\n",
    "# show the legend\n",
    "pyplot.legend()\n",
    "# show the plot\n",
    "pyplot.show()"
   ]
  },
  {
   "cell_type": "markdown",
   "id": "canadian-india",
   "metadata": {},
   "source": [
    "### Test - English only"
   ]
  },
  {
   "cell_type": "code",
   "execution_count": 15,
   "id": "early-barcelona",
   "metadata": {},
   "outputs": [
    {
     "name": "stdout",
     "output_type": "stream",
     "text": [
      "              precision    recall  f1-score   support\n",
      "\n",
      "     class 0       0.90      0.99      0.94     60947\n",
      "     class 1       0.89      0.49      0.63     12825\n",
      "\n",
      "    accuracy                           0.90     73772\n",
      "   macro avg       0.90      0.74      0.79     73772\n",
      "weighted avg       0.90      0.90      0.89     73772\n",
      "\n"
     ]
    }
   ],
   "source": [
    "from sklearn.metrics import classification_report\n",
    "\n",
    "target_names = ['class 0', 'class 1']\n",
    "\n",
    "print(classification_report(pipe.predict(X_test_eng), y_test_eng, target_names=target_names))"
   ]
  },
  {
   "cell_type": "code",
   "execution_count": 16,
   "id": "seasonal-lighting",
   "metadata": {},
   "outputs": [
    {
     "name": "stdout",
     "output_type": "stream",
     "text": [
      "No Skill: ROC AUC=0.500\n",
      "Logistic: ROC AUC=0.964\n"
     ]
    },
    {
     "data": {
      "image/png": "[encoded data removed]",
      "text/plain": [
       "<Figure size 432x288 with 1 Axes>"
      ]
     },
     "metadata": {
      "needs_background": "light"
     },
     "output_type": "display_data"
    }
   ],
   "source": [
    "from sklearn.metrics import roc_curve\n",
    "from sklearn.metrics import roc_auc_score\n",
    "from matplotlib import pyplot\n",
    "\n",
    "# generate a no skill prediction (majority class)\n",
    "ns_probs = [0 for _ in range(len(y_test_eng))]\n",
    "\n",
    "lr_probs = pipe.predict_proba(X_test_eng)\n",
    "# keep probabilities for the positive outcome only\n",
    "lr_probs = lr_probs[:, 1]\n",
    "# calculate scores\n",
    "ns_auc = roc_auc_score(y_test_eng, ns_probs)\n",
    "lr_auc = roc_auc_score(y_test_eng, lr_probs)\n",
    "# summarize scores\n",
    "print('No Skill: ROC AUC=%.3f' % (ns_auc))\n",
    "print('Logistic: ROC AUC=%.3f' % (lr_auc))\n",
    "# calculate roc curves\n",
    "ns_fpr, ns_tpr, _ = roc_curve(y_test_eng, ns_probs)\n",
    "lr_fpr, lr_tpr, _ = roc_curve(y_test_eng, lr_probs)\n",
    "# plot the roc curve for the model\n",
    "pyplot.plot(ns_fpr, ns_tpr, linestyle='--', label='No Skill')\n",
    "pyplot.plot(lr_fpr, lr_tpr, marker='.', label='Logistic')\n",
    "# axis labels\n",
    "pyplot.xlabel('False Positive Rate')\n",
    "pyplot.ylabel('True Positive Rate')\n",
    "# show the legend\n",
    "pyplot.legend()\n",
    "# show the plot\n",
    "pyplot.show()"
   ]
  },
  {
   "cell_type": "markdown",
   "id": "saved-infection",
   "metadata": {},
   "source": [
    "# SVM"
   ]
  },
  {
   "cell_type": "code",
   "execution_count": 85,
   "id": "pleasant-teddy",
   "metadata": {},
   "outputs": [
    {
     "name": "stdout",
     "output_type": "stream",
     "text": [
      "Fitting 3 folds for each of 240 candidates, totalling 720 fits\n"
     ]
    },
    {
     "name": "stderr",
     "output_type": "stream",
     "text": [
      "[Parallel(n_jobs=-1)]: Using backend LokyBackend with 8 concurrent workers.\n",
      "[Parallel(n_jobs=-1)]: Done   9 tasks      | elapsed:   29.5s\n",
      "[Parallel(n_jobs=-1)]: Done  82 tasks      | elapsed:  5.2min\n",
      "[Parallel(n_jobs=-1)]: Done 205 tasks      | elapsed: 11.6min\n",
      "[Parallel(n_jobs=-1)]: Done 376 tasks      | elapsed: 26.0min\n",
      "[Parallel(n_jobs=-1)]: Done 597 tasks      | elapsed: 49.4min\n",
      "[Parallel(n_jobs=-1)]: Done 720 out of 720 | elapsed: 72.5min finished\n"
     ]
    },
    {
     "name": "stdout",
     "output_type": "stream",
     "text": [
      "Best parameter (CV score=0.948):\n",
      "{'SGDClassifier__alpha': 0.001, 'SGDClassifier__class_weight': None, 'SGDClassifier__eta0': 0.01, 'SGDClassifier__learning_rate': 'adaptive', 'SGDClassifier__loss': 'modified_huber', 'SGDClassifier__penalty': 'l2', 'SGDClassifier__tol': 0.001}\n"
     ]
    }
   ],
   "source": [
    "from sklearn.model_selection import GridSearchCV\n",
    "from sklearn.svm import SVC\n",
    "from sklearn.metrics import classification_report, confusion_matrix\n",
    "from sklearn.model_selection import GridSearchCV, StratifiedKFold\n",
    "from sklearn.linear_model import SGDClassifier\n",
    "from sklearn.pipeline import Pipeline\n",
    "\n",
    "n_splits = 3\n",
    "# defining parameter range\n",
    "params_grid = {'SGDClassifier__loss': ['hinge', 'log', 'modified_huber', 'squared_hinge'], \n",
    "              'SGDClassifier__penalty': ['l2'],\n",
    "              'SGDClassifier__alpha': [1, 0.1, 0.01, 0.001, 0.0001],\n",
    "              'SGDClassifier__tol': [1e-2, 1e-3, 1e-1],\n",
    "             'SGDClassifier__learning_rate': ['adaptive','optimal'],\n",
    "             'SGDClassifier__eta0': [0.01],\n",
    "             'SGDClassifier__class_weight': ['balanced', None]} \n",
    "\n",
    "\n",
    "StandardScaler = StandardScaler\n",
    "SGDClassifier = SGDClassifier()\n",
    "\n",
    "model_piped = Pipeline(steps=[('StandardScaler', StandardScaler), ('SGDClassifier', SGDClassifier)])\n",
    "#model_piped = make_pipeline(StandardScaler(), SGDClassifier())  \n",
    "#grid = GridSearchCV(model_piped, param_grid, refit = True, verbose = 3,n_jobs=-1,\n",
    " #                   cv=StratifiedKFold(n_splits=n_splits, shuffle=True, random_state=42))\n",
    "search = GridSearchCV(model_piped, params_grid, n_jobs=-1,\n",
    "                      cv=StratifiedKFold(n_splits=n_splits, shuffle=True, random_state=42), verbose=4)\n",
    "  \n",
    "# fitting the model for grid search\n",
    "search.fit(X_train_eng, y_train_eng)\n",
    "print(\"Best parameter (CV score=%0.3f):\" % search.best_score_)\n",
    "print(search.best_params_)"
   ]
  },
  {
   "cell_type": "markdown",
   "id": "expanded-sucking",
   "metadata": {},
   "source": [
    "### Test- Spanish only"
   ]
  },
  {
   "cell_type": "code",
   "execution_count": 87,
   "id": "acoustic-fundamentals",
   "metadata": {},
   "outputs": [
    {
     "name": "stdout",
     "output_type": "stream",
     "text": [
      "              precision    recall  f1-score   support\n",
      "\n",
      "     class 0       0.99      0.88      0.93      7641\n",
      "     class 1       0.24      0.83      0.37       359\n",
      "\n",
      "    accuracy                           0.88      8000\n",
      "   macro avg       0.62      0.85      0.65      8000\n",
      "weighted avg       0.96      0.88      0.91      8000\n",
      "\n"
     ]
    }
   ],
   "source": [
    "from sklearn.metrics import classification_report\n",
    "\n",
    "target_names = ['class 0', 'class 1']\n",
    "\n",
    "print(classification_report(search.predict(val), list(val_set.toxic), target_names=target_names))"
   ]
  },
  {
   "cell_type": "code",
   "execution_count": 92,
   "id": "complete-feelings",
   "metadata": {},
   "outputs": [
    {
     "name": "stdout",
     "output_type": "stream",
     "text": [
      "No Skill: ROC AUC=0.500\n",
      "SGDClassifier: ROC AUC=0.835\n"
     ]
    },
    {
     "data": {
      "image/png": "[encoded data removed]",
      "text/plain": [
       "<Figure size 432x288 with 1 Axes>"
      ]
     },
     "metadata": {
      "needs_background": "light"
     },
     "output_type": "display_data"
    }
   ],
   "source": [
    "from sklearn.metrics import roc_curve\n",
    "from sklearn.metrics import roc_auc_score\n",
    "from matplotlib import pyplot\n",
    "\n",
    "# generate a no skill prediction (majority class)\n",
    "ns_probs = [0 for _ in range(len(list(val_set.toxic)))]\n",
    "\n",
    "lr_probs = search.predict_proba(val)\n",
    "# keep probabilities for the positive outcome only\n",
    "lr_probs = lr_probs[:, 1]\n",
    "# calculate scores\n",
    "ns_auc = roc_auc_score(list(val_set.toxic), ns_probs)\n",
    "lr_auc = roc_auc_score(list(val_set.toxic), lr_probs)\n",
    "# summarize scores\n",
    "print('No Skill: ROC AUC=%.3f' % (ns_auc))\n",
    "print('SGDClassifier: ROC AUC=%.3f' % (lr_auc))\n",
    "# calculate roc curves\n",
    "ns_fpr, ns_tpr, _ = roc_curve(list(val_set.toxic), ns_probs)\n",
    "lr_fpr, lr_tpr, _ = roc_curve(list(val_set.toxic), lr_probs)\n",
    "# plot the roc curve for the model\n",
    "pyplot.plot(ns_fpr, ns_tpr, linestyle='--', label='No Skill')\n",
    "pyplot.plot(lr_fpr, lr_tpr, marker='.', label='SGDClassifier')\n",
    "# axis labels\n",
    "pyplot.xlabel('False Positive Rate')\n",
    "pyplot.ylabel('True Positive Rate')\n",
    "# show the legend\n",
    "pyplot.legend()\n",
    "# show the plot\n",
    "pyplot.show()"
   ]
  },
  {
   "cell_type": "markdown",
   "id": "standing-corner",
   "metadata": {},
   "source": [
    "### Test - English only"
   ]
  },
  {
   "cell_type": "code",
   "execution_count": 89,
   "id": "informative-seeking",
   "metadata": {},
   "outputs": [
    {
     "name": "stdout",
     "output_type": "stream",
     "text": [
      "              precision    recall  f1-score   support\n",
      "\n",
      "     class 0       0.98      0.96      0.97     68451\n",
      "     class 1       0.60      0.79      0.69      5321\n",
      "\n",
      "    accuracy                           0.95     73772\n",
      "   macro avg       0.79      0.88      0.83     73772\n",
      "weighted avg       0.96      0.95      0.95     73772\n",
      "\n"
     ]
    }
   ],
   "source": [
    "from sklearn.metrics import classification_report\n",
    "\n",
    "target_names = ['class 0', 'class 1']\n",
    "\n",
    "print(classification_report(search.predict(X_test_eng), y_test_eng, target_names=target_names))"
   ]
  },
  {
   "cell_type": "code",
   "execution_count": 93,
   "id": "sustained-singapore",
   "metadata": {},
   "outputs": [
    {
     "name": "stdout",
     "output_type": "stream",
     "text": [
      "No Skill: ROC AUC=0.500\n",
      "SGDClassifier: ROC AUC=0.952\n"
     ]
    },
    {
     "data": {
      "image/png": "[encoded data removed]",
      "text/plain": [
       "<Figure size 432x288 with 1 Axes>"
      ]
     },
     "metadata": {
      "needs_background": "light"
     },
     "output_type": "display_data"
    }
   ],
   "source": [
    "from sklearn.metrics import roc_curve\n",
    "from sklearn.metrics import roc_auc_score\n",
    "from matplotlib import pyplot\n",
    "\n",
    "# generate a no skill prediction (majority class)\n",
    "ns_probs = [0 for _ in range(len(y_test_eng))]\n",
    "\n",
    "lr_probs = search.predict_proba(X_test_eng)\n",
    "# keep probabilities for the positive outcome only\n",
    "lr_probs = lr_probs[:, 1]\n",
    "# calculate scores\n",
    "ns_auc = roc_auc_score(y_test_eng, ns_probs)\n",
    "lr_auc = roc_auc_score(y_test_eng, lr_probs)\n",
    "# summarize scores\n",
    "print('No Skill: ROC AUC=%.3f' % (ns_auc))\n",
    "print('SGDClassifier: ROC AUC=%.3f' % (lr_auc))\n",
    "# calculate roc curves\n",
    "ns_fpr, ns_tpr, _ = roc_curve(y_test_eng, ns_probs)\n",
    "lr_fpr, lr_tpr, _ = roc_curve(y_test_eng, lr_probs)\n",
    "# plot the roc curve for the model\n",
    "pyplot.plot(ns_fpr, ns_tpr, linestyle='--', label='No Skill')\n",
    "pyplot.plot(lr_fpr, lr_tpr, marker='.', label='SGDClassifier')\n",
    "# axis labels\n",
    "pyplot.xlabel('False Positive Rate')\n",
    "pyplot.ylabel('True Positive Rate')\n",
    "# show the legend\n",
    "pyplot.legend()\n",
    "# show the plot\n",
    "pyplot.show()"
   ]
  },
  {
   "cell_type": "markdown",
   "id": "electronic-worse",
   "metadata": {},
   "source": [
    "# MLP Classifier"
   ]
  },
  {
   "cell_type": "markdown",
   "id": "general-romantic",
   "metadata": {},
   "source": [
    "### Train - English only"
   ]
  },
  {
   "cell_type": "code",
   "execution_count": 17,
   "id": "miniature-israel",
   "metadata": {},
   "outputs": [
    {
     "data": {
      "text/plain": [
       "Pipeline(steps=[('standardscaler', StandardScaler()),\n",
       "                ('mlpclassifier',\n",
       "                 MLPClassifier(hidden_layer_sizes=512, max_iter=300,\n",
       "                               random_state=1))])"
      ]
     },
     "execution_count": 17,
     "metadata": {},
     "output_type": "execute_result"
    }
   ],
   "source": [
    "from sklearn.neural_network import MLPClassifier\n",
    "\n",
    "clf = MLPClassifier(hidden_layer_sizes=512, random_state=1, max_iter=300)\n",
    "\n",
    "pipe = make_pipeline(StandardScaler(), clf)\n",
    "pipe.fit(X_train_eng, y_train_eng)"
   ]
  },
  {
   "cell_type": "code",
   "execution_count": 18,
   "id": "internal-grill",
   "metadata": {},
   "outputs": [
    {
     "data": {
      "text/plain": [
       "Pipeline(steps=[('standardscaler', StandardScaler()),\n",
       "                ('mlpclassifier',\n",
       "                 MLPClassifier(hidden_layer_sizes=512, max_iter=300,\n",
       "                               random_state=1))])"
      ]
     },
     "execution_count": 18,
     "metadata": {},
     "output_type": "execute_result"
    }
   ],
   "source": [
    "from sklearn.neural_network import MLPClassifier\n",
    "\n",
    "clf = MLPClassifier(hidden_layer_sizes=512, random_state=1, max_iter=300)\n",
    "\n",
    "pipe = make_pipeline(StandardScaler(), clf)\n",
    "pipe.fit(X_train_eng[0:1000], y_train_eng[0:1000])"
   ]
  },
  {
   "cell_type": "code",
   "execution_count": 19,
   "id": "relative-puppy",
   "metadata": {},
   "outputs": [
    {
     "name": "stdout",
     "output_type": "stream",
     "text": [
      "              precision    recall  f1-score   support\n",
      "\n",
      "     class 0       0.93      0.89      0.91      2169\n",
      "     class 1       0.44      0.56      0.49       331\n",
      "\n",
      "    accuracy                           0.85      2500\n",
      "   macro avg       0.69      0.73      0.70      2500\n",
      "weighted avg       0.87      0.85      0.86      2500\n",
      "\n"
     ]
    }
   ],
   "source": [
    "from sklearn.metrics import classification_report\n",
    "\n",
    "target_names = ['class 0', 'class 1']\n",
    "\n",
    "print(classification_report(pipe.predict(val), list(val_set.toxic), target_names=target_names))"
   ]
  },
  {
   "cell_type": "markdown",
   "id": "legislative-phase",
   "metadata": {},
   "source": [
    "### Test- Spanish only"
   ]
  },
  {
   "cell_type": "code",
   "execution_count": 19,
   "id": "dated-tender",
   "metadata": {},
   "outputs": [
    {
     "name": "stdout",
     "output_type": "stream",
     "text": [
      "              precision    recall  f1-score   support\n",
      "\n",
      "     class 0       0.98      0.88      0.93      7469\n",
      "     class 1       0.30      0.70      0.42       531\n",
      "\n",
      "    accuracy                           0.87      8000\n",
      "   macro avg       0.64      0.79      0.67      8000\n",
      "weighted avg       0.93      0.87      0.89      8000\n",
      "\n"
     ]
    }
   ],
   "source": [
    "from sklearn.metrics import classification_report\n",
    "\n",
    "target_names = ['class 0', 'class 1']\n",
    "\n",
    "print(classification_report(pipe.predict(val), list(val_set.toxic), target_names=target_names))"
   ]
  },
  {
   "cell_type": "code",
   "execution_count": 20,
   "id": "virtual-receptor",
   "metadata": {},
   "outputs": [
    {
     "name": "stdout",
     "output_type": "stream",
     "text": [
      "No Skill: ROC AUC=0.500\n",
      "Logistic: ROC AUC=0.890\n"
     ]
    },
    {
     "data": {
      "image/png": "[encoded data removed]",
      "text/plain": [
       "<Figure size 432x288 with 1 Axes>"
      ]
     },
     "metadata": {
      "needs_background": "light"
     },
     "output_type": "display_data"
    }
   ],
   "source": [
    "from sklearn.metrics import roc_curve\n",
    "from sklearn.metrics import roc_auc_score\n",
    "from matplotlib import pyplot\n",
    "\n",
    "# generate a no skill prediction (majority class)\n",
    "ns_probs = [0 for _ in range(len(list(val_set.toxic)))]\n",
    "\n",
    "lr_probs = pipe.predict_proba(val)\n",
    "# keep probabilities for the positive outcome only\n",
    "lr_probs = lr_probs[:, 1]\n",
    "# calculate scores\n",
    "ns_auc = roc_auc_score(list(val_set.toxic), ns_probs)\n",
    "lr_auc = roc_auc_score(list(val_set.toxic), lr_probs)\n",
    "# summarize scores\n",
    "print('No Skill: ROC AUC=%.3f' % (ns_auc))\n",
    "print('Logistic: ROC AUC=%.3f' % (lr_auc))\n",
    "# calculate roc curves\n",
    "ns_fpr, ns_tpr, _ = roc_curve(list(val_set.toxic), ns_probs)\n",
    "lr_fpr, lr_tpr, _ = roc_curve(list(val_set.toxic), lr_probs)\n",
    "# plot the roc curve for the model\n",
    "pyplot.plot(ns_fpr, ns_tpr, linestyle='--', label='No Skill')\n",
    "pyplot.plot(lr_fpr, lr_tpr, marker='.', label='Logistic')\n",
    "# axis labels\n",
    "pyplot.xlabel('False Positive Rate')\n",
    "pyplot.ylabel('True Positive Rate')\n",
    "# show the legend\n",
    "pyplot.legend()\n",
    "# show the plot\n",
    "pyplot.show()"
   ]
  },
  {
   "cell_type": "markdown",
   "id": "stuffed-rhythm",
   "metadata": {},
   "source": [
    "### Test - English only\n"
   ]
  },
  {
   "cell_type": "code",
   "execution_count": 21,
   "id": "south-honduras",
   "metadata": {},
   "outputs": [
    {
     "name": "stdout",
     "output_type": "stream",
     "text": [
      "              precision    recall  f1-score   support\n",
      "\n",
      "     class 0       0.97      0.96      0.97     67282\n",
      "     class 1       0.63      0.68      0.66      6490\n",
      "\n",
      "    accuracy                           0.94     73772\n",
      "   macro avg       0.80      0.82      0.81     73772\n",
      "weighted avg       0.94      0.94      0.94     73772\n",
      "\n"
     ]
    }
   ],
   "source": [
    "from sklearn.metrics import classification_report\n",
    "\n",
    "target_names = ['class 0', 'class 1']\n",
    "\n",
    "print(classification_report(pipe.predict(X_test_eng), y_test_eng, target_names=target_names))"
   ]
  },
  {
   "cell_type": "code",
   "execution_count": 22,
   "id": "involved-classic",
   "metadata": {},
   "outputs": [
    {
     "name": "stdout",
     "output_type": "stream",
     "text": [
      "No Skill: ROC AUC=0.500\n",
      "Logistic: ROC AUC=0.952\n"
     ]
    },
    {
     "data": {
      "image/png": "[encoded data removed]",
      "text/plain": [
       "<Figure size 432x288 with 1 Axes>"
      ]
     },
     "metadata": {
      "needs_background": "light"
     },
     "output_type": "display_data"
    }
   ],
   "source": [
    "from sklearn.metrics import roc_curve\n",
    "from sklearn.metrics import roc_auc_score\n",
    "from matplotlib import pyplot\n",
    "\n",
    "# generate a no skill prediction (majority class)\n",
    "ns_probs = [0 for _ in range(len(y_test_eng))]\n",
    "\n",
    "lr_probs = pipe.predict_proba(X_test_eng)\n",
    "# keep probabilities for the positive outcome only\n",
    "lr_probs = lr_probs[:, 1]\n",
    "# calculate scores\n",
    "ns_auc = roc_auc_score(y_test_eng, ns_probs)\n",
    "lr_auc = roc_auc_score(y_test_eng, lr_probs)\n",
    "# summarize scores\n",
    "print('No Skill: ROC AUC=%.3f' % (ns_auc))\n",
    "print('Logistic: ROC AUC=%.3f' % (lr_auc))\n",
    "# calculate roc curves\n",
    "ns_fpr, ns_tpr, _ = roc_curve(y_test_eng, ns_probs)\n",
    "lr_fpr, lr_tpr, _ = roc_curve(y_test_eng, lr_probs)\n",
    "# plot the roc curve for the model\n",
    "pyplot.plot(ns_fpr, ns_tpr, linestyle='--', label='No Skill')\n",
    "pyplot.plot(lr_fpr, lr_tpr, marker='.', label='Logistic')\n",
    "# axis labels\n",
    "pyplot.xlabel('False Positive Rate')\n",
    "pyplot.ylabel('True Positive Rate')\n",
    "# show the legend\n",
    "pyplot.legend()\n",
    "# show the plot\n",
    "pyplot.show()"
   ]
  },
  {
   "cell_type": "markdown",
   "id": "incorporated-today",
   "metadata": {},
   "source": [
    "# Neural Network"
   ]
  },
  {
   "cell_type": "code",
   "execution_count": 174,
   "id": "interpreted-springfield",
   "metadata": {},
   "outputs": [],
   "source": [
    "import torch\n",
    "import torch.nn as nn\n",
    "import torch.optim as optim\n",
    "from torch.optim import lr_scheduler\n",
    "import numpy as np\n",
    "import torchvision\n",
    "from torchvision import datasets, models\n",
    "\n",
    "class net(nn.Module):\n",
    "\n",
    "    def __init__(self):\n",
    "\n",
    "        super(net, self).__init__()\n",
    "        # dropout layer\n",
    "        self.dropout = nn.Dropout(0.1)\n",
    "        # relu activation function\n",
    "        self.relu =  nn.ReLU()\n",
    "        # dense layer 1\n",
    "        self.fc1 = nn.Linear(768,512)\n",
    "        # dense layer 2 (Output layer)\n",
    "        self.fc2 = nn.Linear(512,2)\n",
    "        #softmax activation function\n",
    "        self.softmax = nn.LogSoftmax(dim=1)\n",
    "    \n",
    "    #define the forward pass\n",
    "    def forward(self, in_vec):\n",
    "        \n",
    "        #pass the inputs to the model  \n",
    "        x = self.fc1(in_vec)\n",
    "        x = self.relu(x)\n",
    "        x = self.dropout(x)\n",
    "        # output layer\n",
    "        x = self.fc2(x)\n",
    "        # apply softmax activation\n",
    "        x = self.softmax(x)\n",
    "\n",
    "        return x"
   ]
  },
  {
   "cell_type": "code",
   "execution_count": 175,
   "id": "inside-string",
   "metadata": {},
   "outputs": [
    {
     "name": "stdout",
     "output_type": "stream",
     "text": [
      "Class Weights: [0.55309084 5.20891006]\n"
     ]
    },
    {
     "name": "stderr",
     "output_type": "stream",
     "text": [
      "/home/ec2-user/anaconda3/envs/amazonei_pytorch_latest_p36/lib/python3.6/site-packages/sklearn/utils/validation.py:70: FutureWarning: Pass classes=[0 1], y=104964    0\n",
      "217103    0\n",
      "98660     0\n",
      "86003     0\n",
      "201197    0\n",
      "         ..\n",
      "119879    0\n",
      "103694    0\n",
      "131932    1\n",
      "146867    0\n",
      "121958    0\n",
      "Name: toxic, Length: 149777, dtype: int64 as keyword args. From version 0.25 passing these as positional arguments will result in an error\n",
      "  FutureWarning)\n"
     ]
    }
   ],
   "source": [
    "from sklearn.utils.class_weight import compute_class_weight\n",
    "\n",
    "#compute the class weights\n",
    "class_weights = compute_class_weight('balanced', np.unique(y_train_eng), y_train_eng)\n",
    "\n",
    "print(\"Class Weights:\",class_weights)\n",
    "\n"
   ]
  },
  {
   "cell_type": "code",
   "execution_count": 181,
   "id": "scheduled-sense",
   "metadata": {},
   "outputs": [],
   "source": [
    "import time\n",
    "import copy\n",
    "\n",
    "train_loss = []\n",
    "train_con = []\n",
    "\n",
    "eval_loss = []\n",
    "eval_con = []\n",
    "\n",
    "def train_model(model, dataloaders, criterion, optimizer, scheduler, num_epochs=25):\n",
    "    since = time.time()\n",
    "\n",
    "    # Init variables that will save info about the best model\n",
    "    best_model_wts = copy.deepcopy(model.state_dict())\n",
    "    best_acc = 0.0\n",
    "\n",
    "    for epoch in range(num_epochs):\n",
    "        print('Epoch {}/{}'.format(epoch, num_epochs - 1))\n",
    "        print('-' * 10)\n",
    "\n",
    "        # Each epoch has a training and validation phase\n",
    "        for phase in ['train', 'val']:\n",
    "            if phase == 'train':\n",
    "                # Set model to training mode. \n",
    "                model.train()  \n",
    "            else:\n",
    "                # Set model to evaluate mode. In evaluate mode, we don't perform backprop and don't need to keep the gradients\n",
    "                model.eval()   \n",
    "\n",
    "            running_loss = 0.0\n",
    "            running_corrects = 0\n",
    "\n",
    "            # Iterate over data\n",
    "            i = 0 \n",
    "            for inputs, labels in dataloaders[phase]:\n",
    "                # Prepare the inputs for GPU/CPU\n",
    "                inputs = inputs.to(device)\n",
    "                labels = labels.to(device)\n",
    "                \n",
    "                # zero the parameter gradients\n",
    "                optimizer.zero_grad()\n",
    "\n",
    "                # ===== forward pass ======\n",
    "                with torch.set_grad_enabled(phase=='train'):\n",
    "                    # If we're in train mode, we'll track the gradients to allow back-propagation\n",
    "                    outputs = model(inputs) # apply the model to the inputs. The output is the softmax probability of each class\n",
    "                    _, preds = torch.max(outputs, 1) # \n",
    "                    #print(outputs, labels)\n",
    "\n",
    "                    loss = criterion(outputs, labels)\n",
    "\n",
    "                    # ==== backward pass + optimizer step ====\n",
    "                    # This runs only in the training phase\n",
    "                    if phase == 'train':\n",
    "                        loss.backward() # Perform a step in the opposite direction of the gradient\n",
    "                        optimizer.step() # Adapt the optimizer\n",
    "\n",
    "\n",
    "                # Collect statistics\n",
    "                running_loss += loss.item() * inputs.size(0)\n",
    "                running_corrects += torch.sum(preds == labels.data)\n",
    "\n",
    "                \n",
    "            if phase == 'train':\n",
    "                # Adjust the learning rate based on the scheduler\n",
    "                scheduler.step()\n",
    " \n",
    "\n",
    "            epoch_loss = running_loss / dataset_sizes[phase]\n",
    "            epoch_acc = running_corrects.double() / dataset_sizes[phase]\n",
    "            #writer.add_histogram(\"conv1.weight_hist\", model.conv1.weight, epoch)\n",
    "            #writer.add_histogram(\"conv1.weight_avg\", model.conv1.weight.mean(), epoch)\n",
    "            #writer.add_histogram(\"model_loss\", loss.item(), epoch)\n",
    "\n",
    "            if phase == 'train':\n",
    "                train_loss.append(epoch_loss)\n",
    "                train_con.append(epoch_acc)\n",
    "                i += 1\n",
    "                #writer.add_scalar('training loss', running_loss / 1000, epoch * len(dataloaders['train']) + i) \n",
    "            if phase == 'val':\n",
    "                eval_loss.append(epoch_loss)\n",
    "                eval_con.append(epoch_acc)\n",
    "                i += 1\n",
    "                #writer.add_scalar('eval loss', running_loss / 1000, epoch * len(dataloaders['train']) + i) \n",
    "                #print(\"pred {0} lable: {1}\".format(preds, labels.data))\n",
    "\n",
    "            print(f'{phase} Loss: {epoch_loss:.4f} Acc: {epoch_acc:.4f}')\n",
    "\n",
    "            # Keep the results of the best model so far\n",
    "            if phase == 'val' and epoch_acc > best_acc:\n",
    "                best_acc = epoch_acc\n",
    "                # deepcopy the model\n",
    "                best_model_wts = copy.deepcopy(model.state_dict())\n",
    "\n",
    "        print()\n",
    "\n",
    "    time_elapsed = time.time() - since\n",
    "    print(f'Training complete in {(time_elapsed // 60):.0f}m {(time_elapsed % 60):.0f}s')\n",
    "    print(f'Best val Acc: {best_acc:4f}')\n",
    "\n",
    "    # load best model weights\n",
    "    model.load_state_dict(best_model_wts)\n",
    "    torch.save(model.state_dict(), 'saved_weights.pt')\n",
    "    return model, train_loss, train_con, eval_loss, eval_con"
   ]
  },
  {
   "cell_type": "code",
   "execution_count": 182,
   "id": "according-christmas",
   "metadata": {},
   "outputs": [],
   "source": [
    "from transformers import AdamW\n",
    "\n",
    "model = net()\n",
    "model.cuda()\n",
    "device = torch.device(\"cuda:0\" if torch.cuda.is_available() else \"cpu\")\n",
    "#device = \"cpu\"\n",
    "# converting list of class weights to a tensor\n",
    "weights= torch.tensor(class_weights,dtype=torch.float)\n",
    "\n",
    "# push to GPU\n",
    "weights = weights.to(device)\n",
    "\n",
    "# define the loss function\n",
    "cross_entropy  = nn.NLLLoss(weight=weights) \n",
    "\n",
    "# define the optimizer\n",
    "optimizer = AdamW(model.parameters(),\n",
    "                  lr = 1e-5)          # learning rate\n",
    "\n",
    "my_lr_scheduler = lr_scheduler.StepLR(optimizer, step_size=7, gamma=0.1)"
   ]
  },
  {
   "cell_type": "code",
   "execution_count": 183,
   "id": "forbidden-business",
   "metadata": {},
   "outputs": [],
   "source": [
    "tensor_x_train = torch.from_numpy(np.array(X_train_eng)) # transform to torch tensor\n",
    "tensor_y_train = torch.from_numpy(np.array(y_train_eng))\n",
    "\n",
    "tensor_x_val = torch.from_numpy(np.array(X_test_eng)) # transform to torch tensor\n",
    "tensor_y_val = torch.from_numpy(np.array(y_test_eng))\n",
    "\n",
    "datasets = {'train':TensorDataset(tensor_x_train, tensor_y_train) ,'val':TensorDataset(tensor_x_val, tensor_y_val)  }\n",
    "\n",
    "\n",
    "dataloaders_my = {\n",
    "    'train': torch.utils.data.DataLoader(datasets['train'], batch_size=16,\n",
    "                                             shuffle=True, num_workers=2),\n",
    "    'val': torch.utils.data.DataLoader(datasets['val'], batch_size=16,\n",
    "                                          shuffle=False, num_workers=2)\n",
    "  }"
   ]
  },
  {
   "cell_type": "code",
   "execution_count": 184,
   "id": "competitive-alexandria",
   "metadata": {},
   "outputs": [],
   "source": [
    "from torch.utils.tensorboard import SummaryWriter\n",
    "\n",
    "# default `log_dir` is \"runs\" - we'll be more specific here\n",
    "#writer = SummaryWriter('/runs/')"
   ]
  },
  {
   "cell_type": "markdown",
   "id": "exotic-tragedy",
   "metadata": {},
   "source": [
    "# Train - English only"
   ]
  },
  {
   "cell_type": "code",
   "execution_count": 185,
   "id": "prepared-price",
   "metadata": {},
   "outputs": [
    {
     "name": "stdout",
     "output_type": "stream",
     "text": [
      "Epoch 0/9\n",
      "----------\n",
      "train Loss: 0.4133 Acc: 0.8914\n",
      "val Loss: 0.3048 Acc: 0.8925\n",
      "\n",
      "Epoch 1/9\n",
      "----------\n",
      "train Loss: 0.2885 Acc: 0.8954\n",
      "val Loss: 0.2780 Acc: 0.9027\n",
      "\n",
      "Epoch 2/9\n",
      "----------\n",
      "train Loss: 0.2719 Acc: 0.8986\n",
      "val Loss: 0.2689 Acc: 0.9027\n",
      "\n",
      "Epoch 3/9\n",
      "----------\n",
      "train Loss: 0.2644 Acc: 0.9006\n",
      "val Loss: 0.2645 Acc: 0.9052\n",
      "\n",
      "Epoch 4/9\n",
      "----------\n",
      "train Loss: 0.2606 Acc: 0.9015\n",
      "val Loss: 0.2616 Acc: 0.8967\n",
      "\n",
      "Epoch 5/9\n",
      "----------\n",
      "train Loss: 0.2571 Acc: 0.9027\n",
      "val Loss: 0.2597 Acc: 0.9078\n",
      "\n",
      "Epoch 6/9\n",
      "----------\n",
      "train Loss: 0.2538 Acc: 0.9029\n",
      "val Loss: 0.2580 Acc: 0.9089\n",
      "\n",
      "Epoch 7/9\n",
      "----------\n",
      "train Loss: 0.2534 Acc: 0.9044\n",
      "val Loss: 0.2566 Acc: 0.9028\n",
      "\n",
      "Epoch 8/9\n",
      "----------\n",
      "train Loss: 0.2531 Acc: 0.9034\n",
      "val Loss: 0.2563 Acc: 0.9021\n",
      "\n",
      "Epoch 9/9\n",
      "----------\n",
      "train Loss: 0.2523 Acc: 0.9028\n",
      "val Loss: 0.2562 Acc: 0.9030\n",
      "\n",
      "Training complete in 6m 28s\n",
      "Best val Acc: 0.908949\n"
     ]
    }
   ],
   "source": [
    "dataset_sizes = {x: len(datasets[x]) for x in ['train', 'val']}\n",
    "\n",
    "train_loss = []\n",
    "train_con = []\n",
    "\n",
    "eval_loss = []\n",
    "eval_con = []\n",
    "\n",
    "num_epochs=10\n",
    "#inputs, labels = inputs.to(device), labels.to(device)\n",
    "\n",
    "model, train_loss, train_con, eval_loss, eval_con  = train_model(model, \n",
    "                    dataloaders_my,\n",
    "                       cross_entropy, \n",
    "                       optimizer, \n",
    "                       my_lr_scheduler,\n",
    "                       num_epochs=num_epochs)"
   ]
  },
  {
   "cell_type": "code",
   "execution_count": 186,
   "id": "through-section",
   "metadata": {},
   "outputs": [
    {
     "data": {
      "image/png": "[encoded data removed]",
      "text/plain": [
       "<Figure size 432x288 with 1 Axes>"
      ]
     },
     "metadata": {
      "needs_background": "light"
     },
     "output_type": "display_data"
    },
    {
     "data": {
      "image/png": "[encoded data removed]",
      "text/plain": [
       "<Figure size 432x288 with 1 Axes>"
      ]
     },
     "metadata": {
      "needs_background": "light"
     },
     "output_type": "display_data"
    }
   ],
   "source": [
    "plt.figure(1)\n",
    "plt.plot(train_loss, label='train')\n",
    "plt.plot(eval_loss, label='eval')\n",
    "plt.ylabel('Loss')\n",
    "plt.xlabel('epoch')\n",
    "plt.legend()\n",
    "\n",
    "plt.figure(2)\n",
    "plt.plot(train_con, label='train')\n",
    "plt.plot(eval_con, label='eval')\n",
    "plt.ylabel('accuracy')\n",
    "plt.xlabel('epoch')\n",
    "\n",
    "plt.legend()\n",
    "plt.show()"
   ]
  },
  {
   "cell_type": "markdown",
   "id": "divine-fossil",
   "metadata": {},
   "source": [
    "### Test - English only"
   ]
  },
  {
   "cell_type": "code",
   "execution_count": 187,
   "id": "psychological-treaty",
   "metadata": {},
   "outputs": [],
   "source": [
    "predlist=torch.zeros(0,dtype=torch.long, device='cpu')\n",
    "lbllist=torch.zeros(0,dtype=torch.long, device='cpu')\n",
    "with torch.no_grad(): # No need to collect gradients when generating predictions\n",
    "    for i, (inputs, labels) in enumerate(dataloaders_my['val']):\n",
    "        inputs = inputs.to(device)\n",
    "        labels = labels.to(device)\n",
    "        model.eval()\n",
    "        outputs = model(inputs)\n",
    "        _, preds = torch.max(outputs, 1)\n",
    "        \n",
    "        predlist=torch.cat([predlist, preds.view(-1).cpu()])\n",
    "        lbllist=torch.cat([lbllist, labels.view(-1).cpu()])"
   ]
  },
  {
   "cell_type": "code",
   "execution_count": 188,
   "id": "offensive-closing",
   "metadata": {},
   "outputs": [
    {
     "name": "stdout",
     "output_type": "stream",
     "text": [
      "              precision    recall  f1-score   support\n",
      "\n",
      "     class 0       0.91      0.98      0.95     62044\n",
      "     class 1       0.86      0.51      0.64     11728\n",
      "\n",
      "    accuracy                           0.91     73772\n",
      "   macro avg       0.89      0.75      0.79     73772\n",
      "weighted avg       0.91      0.91      0.90     73772\n",
      "\n"
     ]
    }
   ],
   "source": [
    "from sklearn.metrics import classification_report\n",
    "\n",
    "target_names = ['class 0', 'class 1']\n",
    "\n",
    "print(classification_report(predlist, lbllist, target_names=target_names))"
   ]
  },
  {
   "cell_type": "code",
   "execution_count": 189,
   "id": "japanese-lancaster",
   "metadata": {},
   "outputs": [],
   "source": [
    "# Initialize the prediction and label lists(tensors)\n",
    "predlist = torch.zeros(0,dtype=torch.long, device='cpu')\n",
    "lbllist = torch.zeros(0,dtype=torch.long, device='cpu')\n",
    "problist = torch.zeros(0,dtype=torch.float, device='cpu')\n",
    "inputslist = torch.zeros(0,dtype=torch.float, device='cpu')\n",
    "outputslist = torch.zeros(0,dtype=torch.float, device='cpu')\n",
    "\n",
    "with torch.no_grad():\n",
    "    for i, (inputs, classes) in enumerate(dataloaders_my['val']):\n",
    "        inputs = inputs.to(device)\n",
    "        classes = classes.to(device)\n",
    "        outputs = model(inputs)\n",
    "        prob, preds = torch.max(outputs, 1)\n",
    "\n",
    "        # Append batch prediction results\n",
    "        predlist = torch.cat([predlist, preds.view(-1).cpu()])\n",
    "        lbllist = torch.cat([lbllist, classes.view(-1).cpu()])\n",
    "        problist = torch.cat([problist, torch.exp(prob).view(-1).cpu()])\n",
    "        inputslist = torch.cat([inputslist, inputs.cpu()])\n",
    "        outputslist = torch.cat([outputslist, outputs.cpu()])"
   ]
  },
  {
   "cell_type": "code",
   "execution_count": 190,
   "id": "genuine-airline",
   "metadata": {},
   "outputs": [
    {
     "name": "stdout",
     "output_type": "stream",
     "text": [
      "No Skill: ROC AUC=0.500\n",
      "Logistic: ROC AUC=0.371\n"
     ]
    },
    {
     "data": {
      "image/png": "[encoded data removed]",
      "text/plain": [
       "<Figure size 432x288 with 1 Axes>"
      ]
     },
     "metadata": {
      "needs_background": "light"
     },
     "output_type": "display_data"
    }
   ],
   "source": [
    "from sklearn.metrics import roc_curve\n",
    "from sklearn.metrics import roc_auc_score\n",
    "from matplotlib import pyplot\n",
    "\n",
    "# generate a no skill prediction (majority class)\n",
    "ns_probs = [0 for _ in range(len(y_test_eng))]\n",
    "\n",
    "#lr_probs = pipe.predict_proba(X_test_eng)\n",
    "# keep probabilities for the positive outcome only\n",
    "lr_probs = problist\n",
    "# calculate scores\n",
    "ns_auc = roc_auc_score(y_test_eng, ns_probs)\n",
    "lr_auc = roc_auc_score(y_test_eng, lr_probs)\n",
    "# summarize scores\n",
    "print('No Skill: ROC AUC=%.3f' % (ns_auc))\n",
    "print('Logistic: ROC AUC=%.3f' % (lr_auc))\n",
    "# calculate roc curves\n",
    "ns_fpr, ns_tpr, _ = roc_curve(y_test_eng, ns_probs)\n",
    "lr_fpr, lr_tpr, _ = roc_curve(y_test_eng, lr_probs)\n",
    "# plot the roc curve for the model\n",
    "pyplot.plot(ns_fpr, ns_tpr, linestyle='--', label='No Skill')\n",
    "pyplot.plot(lr_fpr, lr_tpr, marker='.', label='Logistic')\n",
    "# axis labels\n",
    "pyplot.xlabel('False Positive Rate')\n",
    "pyplot.ylabel('True Positive Rate')\n",
    "# show the legend\n",
    "pyplot.legend()\n",
    "# show the plot\n",
    "pyplot.show()"
   ]
  },
  {
   "cell_type": "markdown",
   "id": "unlimited-gravity",
   "metadata": {},
   "source": [
    "### Test- Spanish only"
   ]
  },
  {
   "cell_type": "code",
   "execution_count": 136,
   "id": "respected-george",
   "metadata": {},
   "outputs": [],
   "source": [
    "tensor_x_val_spanish = torch.from_numpy(np.array(val)) # transform to torch tensor\n",
    "tensor_y_val_spanish = torch.from_numpy(np.array(val_set.toxic))\n",
    "\n",
    "datasets_spanish = {'val':TensorDataset(tensor_x_val_spanish, tensor_y_val_spanish)  }\n",
    "\n",
    "\n",
    "dataloaders_spanish = {\n",
    "    'val': torch.utils.data.DataLoader(datasets_spanish['val'], batch_size=16,\n",
    "                                          shuffle=False, num_workers=2)\n",
    "  }"
   ]
  },
  {
   "cell_type": "code",
   "execution_count": 140,
   "id": "right-straight",
   "metadata": {},
   "outputs": [],
   "source": [
    "predlist=torch.zeros(0,dtype=torch.long, device='cpu')\n",
    "lbllist=torch.zeros(0,dtype=torch.long, device='cpu')\n",
    "with torch.no_grad(): # No need to collect gradients when generating predictions\n",
    "    for i, (inputs, labels) in enumerate(dataloaders_spanish['val']):\n",
    "        inputs = inputs.to(device)\n",
    "        labels = labels.to(device)\n",
    "        model.eval()\n",
    "        outputs = model(inputs)\n",
    "        _, preds = torch.max(outputs, 1)\n",
    "        \n",
    "        predlist=torch.cat([predlist, preds.view(-1).cpu()])\n",
    "        lbllist=torch.cat([lbllist, labels.view(-1).cpu()])"
   ]
  },
  {
   "cell_type": "code",
   "execution_count": 141,
   "id": "loved-control",
   "metadata": {},
   "outputs": [
    {
     "name": "stdout",
     "output_type": "stream",
     "text": [
      "              precision    recall  f1-score   support\n",
      "\n",
      "     class 0       0.85      0.95      0.90      6056\n",
      "     class 1       0.76      0.48      0.59      1944\n",
      "\n",
      "    accuracy                           0.84      8000\n",
      "   macro avg       0.81      0.72      0.74      8000\n",
      "weighted avg       0.83      0.84      0.82      8000\n",
      "\n"
     ]
    }
   ],
   "source": [
    "from sklearn.metrics import classification_report\n",
    "\n",
    "target_names = ['class 0', 'class 1']\n",
    "\n",
    "print(classification_report(predlist, lbllist, target_names=target_names))"
   ]
  },
  {
   "cell_type": "markdown",
   "id": "breathing-cassette",
   "metadata": {},
   "source": [
    "# Visualize the embeddings"
   ]
  },
  {
   "cell_type": "code",
   "execution_count": 41,
   "id": "recorded-boundary",
   "metadata": {},
   "outputs": [],
   "source": [
    "N=1000"
   ]
  },
  {
   "cell_type": "code",
   "execution_count": 42,
   "id": "southwest-satin",
   "metadata": {},
   "outputs": [],
   "source": [
    "tsne_model = TSNE(perplexity=40, n_components=2, init='pca', n_iter=2500, random_state=23, n_jobs=7)\n",
    "new_values = tsne_model.fit_transform(train[0:N])"
   ]
  },
  {
   "cell_type": "code",
   "execution_count": 45,
   "id": "opened-holly",
   "metadata": {},
   "outputs": [
    {
     "data": {
      "image/png": "[encoded data removed]",
      "text/plain": [
       "<Figure size 576x432 with 2 Axes>"
      ]
     },
     "metadata": {
      "needs_background": "light"
     },
     "output_type": "display_data"
    }
   ],
   "source": [
    "import matplotlib\n",
    "import matplotlib.pyplot as plt\n",
    "import numpy as np\n",
    "x = []\n",
    "y = []\n",
    "for value in new_values:\n",
    "    x.append(value[0])\n",
    "    y.append(value[1])\n",
    "    \n",
    "colors = ['red','blue']\n",
    "\n",
    "fig = plt.figure(figsize=(8, 6))\n",
    "plt.scatter(x[0:N], y[0:N], c=list(train_set.toxic)[0:N], cmap=matplotlib.colors.ListedColormap(colors))\n",
    "\n",
    "cb = plt.colorbar()\n",
    "loc = np.arange(0,max(label),max(label)/float(len(colors)))\n",
    "cb.set_ticks(loc)\n",
    "cb.set_ticklabels(colors)"
   ]
  },
  {
   "cell_type": "code",
   "execution_count": null,
   "id": "victorian-fifteen",
   "metadata": {},
   "outputs": [],
   "source": []
  }
 ],
 "metadata": {
  "kernelspec": {
   "display_name": "conda_amazonei_pytorch_latest_p36",
   "language": "python",
   "name": "conda_amazonei_pytorch_latest_p36"
  },
  "language_info": {
   "codemirror_mode": {
    "name": "ipython",
    "version": 3
   },
   "file_extension": ".py",
   "mimetype": "text/x-python",
   "name": "python",
   "nbconvert_exporter": "python",
   "pygments_lexer": "ipython3",
   "version": "3.6.13"
  }
 },
 "nbformat": 4,
 "nbformat_minor": 5
}
